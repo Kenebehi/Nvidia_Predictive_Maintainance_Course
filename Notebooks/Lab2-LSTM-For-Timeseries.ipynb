{
 "cells": [
  {
   "cell_type": "markdown",
   "metadata": {},
   "source": [
    "<img src=\"images/header.png\" alt=\"Header\" style=\"width: 400px;\"/>"
   ]
  },
  {
   "cell_type": "markdown",
   "metadata": {},
   "source": [
    "<h1 align=\"center\">Predictive Maintenance using NVIDIA RAPIDS and Deep Learning Models</h1>\n",
    "<h4 align=\"center\">Part 2: Training GPU LSTM models using Keras+Tensorflow for Time Series</h4>"
   ]
  },
  {
   "cell_type": "markdown",
   "metadata": {},
   "source": [
    "## Overview"
   ]
  },
  {
   "cell_type": "markdown",
   "metadata": {},
   "source": [
    "In the previous lab, we utilized accelerated XGBoost for classification of faulty hard drives. In this lab, we deal with data points gathered from hard drives as time series and use recurrent neural networks to predict hard disk failures. \n",
    "\n",
    "Companies are looking at implementing \"Predictive Maintenance Procedures\" to avoid downtimes by predicting the failure of a device before it happens so they can repair/replace the device, preventing costly downtimes.  \n",
    "\n",
    "In this exercise, we will leverage the Backblaze Hard Drive SMART data to train an LSTM model that will predict potential future failures.  Unlike the previous exercise, where the XGBoost model predicted based on current data, the LSTM model will leverage time series data to look for trends prior to a failure.\n",
    "\n",
    "One observation that comes from this exercise is that most of the work to train this model revolves around the data preparation.  We will walk through creating the \"normal\" and \"failing\" sequences that will indicate when we expect to see early warning signs of a disk failure.  Then we will use that data to train our model.\n",
    "\n",
    "This lab covers the following topics:\n",
    "\n",
    "* [Recurrent Networks: Long Short-Term Memory](#1)\n",
    "* [Vanishing Gradient Problem and LSTMs](#2)\n",
    "* [LSTM Cell Structure](#3)\n",
    "* [LSTM Applications](#4)\n",
    "* [Preparing the Environment](#5)\n",
    "* [Load Datasets for Data Preparation](#6)\n",
    "* [Preparing the Training Data](#7)\n",
    "* [Creating X and y labels](#8)\n",
    "    * [ Exercise 1: Create class labels](#e1)\n",
    "    * [ Exercise 2: Reshaping the training data](#e2)\n",
    "* [Model Design](#9)\n",
    "* [Training the Model](#10)\n",
    "* [Confusion Matrix](#11)\n",
    "* [Optional:  CNN LSTM Architecture](#12)\n",
    "\n",
    "Let's first discuss LSTM models."
   ]
  },
  {
   "cell_type": "markdown",
   "metadata": {},
   "source": [
    "<a name=\"1\"></a>\n",
    "## Recurrent Networks: Long Short-Term Memory\n",
    "\n",
    "In this section, we present a brief overview of Recurrent Neural Networks (RNNs) and the Long short-term memory (LSTM) variation of RNNs, which is used in this lab to predict hard disk failures. Note that an in-depth understanding of the internal operations of LSTMs is not required to follow the application presented. However, at the end of this section, you are provided with external links for more in-depth analysis of such models and we encourage the students to read through them in order to have a better grasp of the architecture behind RNN networks.\n",
    "\n",
    "RNNs were created to solve the memory-persistence issue found in conventional feedforward networks. Inspired by the human mind, which does not initiate the thinking process from scratch and instead uses memory-persistence based on the sequential order of events, RNNs were devised to possess such a characteristic. To accomplish this, RNNs maintain a loop that allows the information to be persistent in the network. Figure 1 depicts an RNN network where at each time step $t$, the network receives input $X_t$ and outputs a value of $y_t$. The left side of the figure shows an RNN cell with input $X$ and output $y$. There is also a loop-back of the state, which represents the memory. At a given timestep $t$, the output also depends on all previous timesteps $t-1, t-2, ..., 0$. This can also be thought of as an unrolled network with each timestep being input to a different cell and horizontal connections between cells. These connections represent the state that is passed on to the next timestep. Each timestep generates its own output that can be fed into another layer. \n",
    "\n"
   ]
  },
  {
   "cell_type": "markdown",
   "metadata": {},
   "source": [
    "<img src=\"img/lstm seq.png\" style=\"margin-top:10px;\"/>\n",
    "<p style=\"text-align: center;color:gray\"> Figure 1. The unrolled recurrent neural network</p>"
   ]
  },
  {
   "cell_type": "markdown",
   "metadata": {},
   "source": [
    "While the conventional RNNs tend to look at information stored a long time ago, often we are interested in more recent data points, which in most cases suffice to predict the next state. Another well-studied issue with RNNs is the gradient vanishing-exploding problem. In a multi-layer network, gradients are calculated as a product of gradients of many activation functions. Consequently, when those gradients are close to zero, the gradient vanishes. On the other hand, when the previous gradients are bigger, it explodes. We will return to this topic later in this section.\n",
    "\n",
    "__LSTM__ is a type of Recurrent Neural Network especially designed to prevent the neural network output for a given input from either decaying or exploding as it cycles through the feedback loops. The feedback loops are what allow recurrent networks to be better at pattern recognition than other neural networks. \n",
    " \n",
    "Length of memory of past input is critical for solving sequence learning tasks and Long short-term memory networks provide better performance compared to other RNN architectures by alleviating what is called the vanishing gradient problem.\n",
    "\n",
    "Similar to the RNN model shown above, the LSTM Architecture consists of linear units with a self-connection that allows the flow of a value (forward pass) or gradient (backward pass) to be preserved and subsequently retrieved at the required time step. The self-recurrent unit, the memory cell, is capable of storing information which lies a dozen of time-steps in the past. This is very powerful for many tasks. For example, for text data, an LSTM unit can store information contained in the previous paragraph and apply this information to a sentence in the current paragraph."
   ]
  },
  {
   "cell_type": "markdown",
   "metadata": {},
   "source": [
    "<a name=\"2\"></a>\n",
    "## Vanishing Gradient Problem and LSTMs\n",
    "\n",
    "A simple RNN model only has a single hidden RNN layer while a stacked RNN model (needed for advanced applications) has multiple RNN hidden layers. A common problem in deep networks is the “vanishing gradient” problem, where the gradient gets smaller and smaller with each layer until it is too small to affect the deepest layers. \n",
    "\n",
    "This is because small gradients or weights (values less than 1) are multiplied many times over through the multiple time steps, and the gradients shrink asymptotically to zero. This means the weights of those earlier layers won’t be changed significantly and, therefore, the network won’t learn long-term dependencies.\n",
    "\n",
    "The gradients of neural networks are found during backpropagation.  When we multiply lots of -1 << real numbers << 1 together, we end up with a vanishing product, which leads to a very small value and hence practically no learning of the weight values – the predictive power of the neural network then plateaus.\n",
    "\n",
    "With the memory cell in LSTMs, we have continuous gradient flow (errors maintain their value) which thus eliminates the vanishing gradient problem and enables learning from sequences which are hundreds of time steps long."
   ]
  },
  {
   "cell_type": "markdown",
   "metadata": {},
   "source": [
    "LSTM models are powerful enough to learn the most important past behaviours and understand whether or not those past behaviours are important features in making future predictions."
   ]
  },
  {
   "cell_type": "markdown",
   "metadata": {},
   "source": [
    "<a name=\"3\"></a>\n",
    "## LSTM Cell Structure\n",
    "\n",
    "An LSTM cell block is made of various components called the cell state, the input gate, the forget gate, and the output gate.  The cell state runs along the entire length of the cell and interacts with each of the gates.  The gates are a way to control the information that gets through to the cell state.\n",
    "\n",
    "Here is a graphical representation of the LSTM cell:"
   ]
  },
  {
   "cell_type": "markdown",
   "metadata": {},
   "source": [
    "\n",
    "<img src=\"img/LSTM cell.png\" style=\"margin-top:10px;\"/>\n",
    "<p style=\"text-align: center;color:gray\"> Figure 2. LSTM Cell</p> <p style=\"text-align: center;color:gray;font-size:12px;\"> Image from book: <i>Hands-On Machine Learning with Scikit-Learn and TensorFlow: Concepts, Tools, and Techniques to Build Intelligent Systems</i>\n",
    " by Aurélien Géron </p>"
   ]
  },
  {
   "cell_type": "markdown",
   "metadata": {},
   "source": [
    "Notice first, on the bottom, we have our new sequence value $x_t$ being concatenated to the previous output from the cell $h_{t-1}$. The first step for this combined input is for it to be squashed via a $tanh$ layer. Next, the output of the $tanh$ operation is passed through an input gate. An input gate is a layer of sigmoid activated nodes whose output is multiplied by the squashed input. These gate sigmoids can act to “kill off” any elements of the input vector that aren’t required and need to be forgotten. A sigmoid function outputs values between 0 and 1, so the weights connecting the input to these nodes can be trained to output values close to zero to “switch off” certain input values (or, conversely, outputs close to 1 to “pass through” other values).\n",
    "\n",
    "The next step in the flow of data through this cell is the internal state / forget gate loop. LSTM cells have an internal state variable $c_t$. This variable lagged one time step, i.e. $c_{t-1}$, is added to the input data to create an effective layer of recurrence. This addition operation, instead of a multiplication operation, helps to reduce the risk of vanishing gradients. However, this recurrence loop is controlled by a forget gate. This works the same as the input gate but instead helps the network learn which state variables should be “remembered” or “forgotten”.\n",
    "\n",
    "As the final gate, we have an output layer $tanh$ squashing function (re-scale the numbers between -1 and 1), the output of which is controlled by an output gate. This gate determines which values are actually allowed as an output from the cell $h_t$.\n",
    "\n",
    "Last, running along the top of the cell is the cell state, that leverage pointwise multiplication operations to interact with each of the gates.  \n",
    "\n",
    "\n",
    "To have a more in-depth understanding of LSTM networks and relative analysis, we recommend the curious audience to read the following articles:\n",
    "\n",
    " - [Understanding LSTM Networks](https://colah.github.io/posts/2015-08-Understanding-LSTMs/)\n",
    " \n",
    " - [Tutorial for Implementing Long Short-Term Memory](https://heartbeat.fritz.ai/a-beginners-guide-to-implementing-long-short-term-memory-networks-lstm-eb7a2ff09a27)\n",
    " \n",
    " - [LSTM: A Search Space Odyssey](https://arxiv.org/pdf/1503.04069.pdf)\n",
    "\n"
   ]
  },
  {
   "cell_type": "markdown",
   "metadata": {},
   "source": [
    "<a name=\"4\"></a>\n",
    "## LSTM Applications\n",
    "\n",
    "LSTMs, due to their ability to learn long term dependencies, are applicable to a number of sequence learning problems including language modelling and translation, acoustic modelling of speech, speech synthesis, speech recognition, audio and video data analysis, handwriting recognition and generation, sequence prediction, and protein secondary structure prediction.\n",
    "\n",
    "In this lab, we apply the LSTM model to the Backblaze data we introduced in the previous lab to create a model that predicts the hard disk failure based on the recorded data-points at least a few days before the actual failure. "
   ]
  },
  {
   "cell_type": "markdown",
   "metadata": {},
   "source": [
    "<a name=\"5\"></a>\n",
    "## Preparing the Environment\n",
    "\n",
    "Below we are importing the required libraries and tools we use throughout this notebook:\n"
   ]
  },
  {
   "cell_type": "code",
   "execution_count": 1,
   "metadata": {},
   "outputs": [
    {
     "name": "stderr",
     "output_type": "stream",
     "text": [
      "Using TensorFlow backend.\n"
     ]
    },
    {
     "name": "stdout",
     "output_type": "stream",
     "text": [
      "1.13.1\n"
     ]
    }
   ],
   "source": [
    "import warnings\n",
    "warnings.simplefilter(action='ignore', category=FutureWarning)\n",
    "\n",
    "import os\n",
    "import tensorflow as tf\n",
    "from keras import backend as K\n",
    "\n",
    "print(tf.__version__)\n",
    "\n",
    "# Suppress TF logs\n",
    "os.environ['TF_CPP_MIN_LOG_LEVEL'] = '3'\n",
    "\n",
    "# prevent keras/tf from allocating all gpu memory\n",
    "gpu = 2    # set to number of GPU we want to leverage for training\n",
    "tf.device('/device:GPU:%s' % gpu)\n",
    "\n",
    "config = tf.ConfigProto(log_device_placement=True,allow_soft_placement=True)\n",
    "config.gpu_options.allow_growth = True\n",
    "sess = tf.Session(config=config)\n",
    "\n",
    "K.set_session(sess)"
   ]
  },
  {
   "cell_type": "markdown",
   "metadata": {},
   "source": [
    "<a name=\"6\"></a>\n",
    "## Load Datasets for Data Preparation\n",
    "\n",
    "For your convenience, we have filtered and stored the `ST4000DM000` model data points in a pickle file. In the following cell, we are reloading the pickle file into the memory."
   ]
  },
  {
   "cell_type": "code",
   "execution_count": 2,
   "metadata": {},
   "outputs": [
    {
     "name": "stdout",
     "output_type": "stream",
     "text": [
      "Reading in training and test SMART data stored in previous exercise...\n",
      "(12237899, 53)\n",
      "(3196552, 53)\n"
     ]
    }
   ],
   "source": [
    "import pandas as pd\n",
    "\n",
    "data_dir = './data/'\n",
    "\n",
    "# Files from Lab 1\n",
    "train_pkl_file = 'Lab1-2017-Full-ST4000DM000.pkl'\n",
    "test_pkl_file = 'Lab1-2016-Q4-ST4000DM000.pkl'\n",
    "\n",
    "# Load our training and test set from previous step\n",
    "print(\"Reading in training and test SMART data stored in previous exercise...\")\n",
    "df_train = pd.read_pickle(data_dir+train_pkl_file)\n",
    "df_test = pd.read_pickle(data_dir+test_pkl_file)\n",
    "\n",
    "print(df_train.shape)\n",
    "print(df_test.shape)"
   ]
  },
  {
   "cell_type": "markdown",
   "metadata": {},
   "source": [
    "Let's take another look at the data samples:"
   ]
  },
  {
   "cell_type": "code",
   "execution_count": 3,
   "metadata": {},
   "outputs": [
    {
     "data": {
      "text/html": [
       "<div>\n",
       "<style scoped>\n",
       "    .dataframe tbody tr th:only-of-type {\n",
       "        vertical-align: middle;\n",
       "    }\n",
       "\n",
       "    .dataframe tbody tr th {\n",
       "        vertical-align: top;\n",
       "    }\n",
       "\n",
       "    .dataframe thead th {\n",
       "        text-align: right;\n",
       "    }\n",
       "</style>\n",
       "<table border=\"1\" class=\"dataframe\">\n",
       "  <thead>\n",
       "    <tr style=\"text-align: right;\">\n",
       "      <th></th>\n",
       "      <th>date</th>\n",
       "      <th>serial_number</th>\n",
       "      <th>model</th>\n",
       "      <th>capacity_bytes</th>\n",
       "      <th>failure</th>\n",
       "      <th>smart_1_normalized</th>\n",
       "      <th>smart_1_raw</th>\n",
       "      <th>smart_3_normalized</th>\n",
       "      <th>smart_3_raw</th>\n",
       "      <th>smart_4_normalized</th>\n",
       "      <th>...</th>\n",
       "      <th>smart_198_normalized</th>\n",
       "      <th>smart_198_raw</th>\n",
       "      <th>smart_199_normalized</th>\n",
       "      <th>smart_199_raw</th>\n",
       "      <th>smart_240_normalized</th>\n",
       "      <th>smart_240_raw</th>\n",
       "      <th>smart_241_normalized</th>\n",
       "      <th>smart_241_raw</th>\n",
       "      <th>smart_242_normalized</th>\n",
       "      <th>smart_242_raw</th>\n",
       "    </tr>\n",
       "  </thead>\n",
       "  <tbody>\n",
       "    <tr>\n",
       "      <th>4</th>\n",
       "      <td>2017-02-01</td>\n",
       "      <td>Z305B2QN</td>\n",
       "      <td>ST4000DM000</td>\n",
       "      <td>4000787030016</td>\n",
       "      <td>0</td>\n",
       "      <td>117.0</td>\n",
       "      <td>124084032.0</td>\n",
       "      <td>91.0</td>\n",
       "      <td>0.0</td>\n",
       "      <td>100.0</td>\n",
       "      <td>...</td>\n",
       "      <td>100.0</td>\n",
       "      <td>0.0</td>\n",
       "      <td>200.0</td>\n",
       "      <td>0.0</td>\n",
       "      <td>100.0</td>\n",
       "      <td>9690.0</td>\n",
       "      <td>100.0</td>\n",
       "      <td>3.179327e+10</td>\n",
       "      <td>100.0</td>\n",
       "      <td>8.596073e+09</td>\n",
       "    </tr>\n",
       "    <tr>\n",
       "      <th>7</th>\n",
       "      <td>2017-02-01</td>\n",
       "      <td>Z302A0YH</td>\n",
       "      <td>ST4000DM000</td>\n",
       "      <td>4000787030016</td>\n",
       "      <td>0</td>\n",
       "      <td>109.0</td>\n",
       "      <td>22057080.0</td>\n",
       "      <td>92.0</td>\n",
       "      <td>0.0</td>\n",
       "      <td>100.0</td>\n",
       "      <td>...</td>\n",
       "      <td>100.0</td>\n",
       "      <td>0.0</td>\n",
       "      <td>200.0</td>\n",
       "      <td>0.0</td>\n",
       "      <td>100.0</td>\n",
       "      <td>17310.0</td>\n",
       "      <td>100.0</td>\n",
       "      <td>2.169678e+10</td>\n",
       "      <td>100.0</td>\n",
       "      <td>1.860347e+11</td>\n",
       "    </tr>\n",
       "    <tr>\n",
       "      <th>8</th>\n",
       "      <td>2017-02-01</td>\n",
       "      <td>Z305BT0W</td>\n",
       "      <td>ST4000DM000</td>\n",
       "      <td>4000787030016</td>\n",
       "      <td>0</td>\n",
       "      <td>117.0</td>\n",
       "      <td>119535272.0</td>\n",
       "      <td>93.0</td>\n",
       "      <td>0.0</td>\n",
       "      <td>100.0</td>\n",
       "      <td>...</td>\n",
       "      <td>100.0</td>\n",
       "      <td>0.0</td>\n",
       "      <td>200.0</td>\n",
       "      <td>0.0</td>\n",
       "      <td>100.0</td>\n",
       "      <td>8514.0</td>\n",
       "      <td>100.0</td>\n",
       "      <td>2.755353e+10</td>\n",
       "      <td>100.0</td>\n",
       "      <td>1.631456e+10</td>\n",
       "    </tr>\n",
       "    <tr>\n",
       "      <th>12</th>\n",
       "      <td>2017-02-01</td>\n",
       "      <td>Z302A0YE</td>\n",
       "      <td>ST4000DM000</td>\n",
       "      <td>4000787030016</td>\n",
       "      <td>0</td>\n",
       "      <td>115.0</td>\n",
       "      <td>90592144.0</td>\n",
       "      <td>92.0</td>\n",
       "      <td>0.0</td>\n",
       "      <td>100.0</td>\n",
       "      <td>...</td>\n",
       "      <td>100.0</td>\n",
       "      <td>0.0</td>\n",
       "      <td>200.0</td>\n",
       "      <td>564.0</td>\n",
       "      <td>100.0</td>\n",
       "      <td>18051.0</td>\n",
       "      <td>100.0</td>\n",
       "      <td>2.150714e+10</td>\n",
       "      <td>100.0</td>\n",
       "      <td>2.376942e+11</td>\n",
       "    </tr>\n",
       "    <tr>\n",
       "      <th>13</th>\n",
       "      <td>2017-02-01</td>\n",
       "      <td>Z302PGH8</td>\n",
       "      <td>ST4000DM000</td>\n",
       "      <td>4000787030016</td>\n",
       "      <td>0</td>\n",
       "      <td>120.0</td>\n",
       "      <td>240109536.0</td>\n",
       "      <td>92.0</td>\n",
       "      <td>0.0</td>\n",
       "      <td>100.0</td>\n",
       "      <td>...</td>\n",
       "      <td>100.0</td>\n",
       "      <td>0.0</td>\n",
       "      <td>200.0</td>\n",
       "      <td>0.0</td>\n",
       "      <td>100.0</td>\n",
       "      <td>14303.0</td>\n",
       "      <td>100.0</td>\n",
       "      <td>1.645696e+10</td>\n",
       "      <td>100.0</td>\n",
       "      <td>7.311286e+10</td>\n",
       "    </tr>\n",
       "  </tbody>\n",
       "</table>\n",
       "<p>5 rows × 53 columns</p>\n",
       "</div>"
      ],
      "text/plain": [
       "         date serial_number        model  capacity_bytes  failure  \\\n",
       "4  2017-02-01      Z305B2QN  ST4000DM000   4000787030016        0   \n",
       "7  2017-02-01      Z302A0YH  ST4000DM000   4000787030016        0   \n",
       "8  2017-02-01      Z305BT0W  ST4000DM000   4000787030016        0   \n",
       "12 2017-02-01      Z302A0YE  ST4000DM000   4000787030016        0   \n",
       "13 2017-02-01      Z302PGH8  ST4000DM000   4000787030016        0   \n",
       "\n",
       "    smart_1_normalized  smart_1_raw  smart_3_normalized  smart_3_raw  \\\n",
       "4                117.0  124084032.0                91.0          0.0   \n",
       "7                109.0   22057080.0                92.0          0.0   \n",
       "8                117.0  119535272.0                93.0          0.0   \n",
       "12               115.0   90592144.0                92.0          0.0   \n",
       "13               120.0  240109536.0                92.0          0.0   \n",
       "\n",
       "    smart_4_normalized  ...  smart_198_normalized  smart_198_raw  \\\n",
       "4                100.0  ...                 100.0            0.0   \n",
       "7                100.0  ...                 100.0            0.0   \n",
       "8                100.0  ...                 100.0            0.0   \n",
       "12               100.0  ...                 100.0            0.0   \n",
       "13               100.0  ...                 100.0            0.0   \n",
       "\n",
       "    smart_199_normalized  smart_199_raw  smart_240_normalized  smart_240_raw  \\\n",
       "4                  200.0            0.0                 100.0         9690.0   \n",
       "7                  200.0            0.0                 100.0        17310.0   \n",
       "8                  200.0            0.0                 100.0         8514.0   \n",
       "12                 200.0          564.0                 100.0        18051.0   \n",
       "13                 200.0            0.0                 100.0        14303.0   \n",
       "\n",
       "    smart_241_normalized  smart_241_raw  smart_242_normalized  smart_242_raw  \n",
       "4                  100.0   3.179327e+10                 100.0   8.596073e+09  \n",
       "7                  100.0   2.169678e+10                 100.0   1.860347e+11  \n",
       "8                  100.0   2.755353e+10                 100.0   1.631456e+10  \n",
       "12                 100.0   2.150714e+10                 100.0   2.376942e+11  \n",
       "13                 100.0   1.645696e+10                 100.0   7.311286e+10  \n",
       "\n",
       "[5 rows x 53 columns]"
      ]
     },
     "execution_count": 3,
     "metadata": {},
     "output_type": "execute_result"
    }
   ],
   "source": [
    "df_train.head()"
   ]
  },
  {
   "cell_type": "markdown",
   "metadata": {},
   "source": [
    "We need to further process the data before the training phase. Each \"raw\" data column has a duplicated \"normalized\" version (example. smart_1_raw and smart_2_normalized) and while values of the pairs are different because of normalization, they do not possess extra information. Similar to the previous lab, we choose to eliminate the \"normalized\" columns.\n",
    "\n",
    "We also need to sort the columns based on the `serial_number` and `date` columns. Since we are dealing with time series data, the only meaningful way to process is to have them sorted, first by the related serial_number and second by the date recorded. The `prepare_dataframe` function is intended to accomplish these steps."
   ]
  },
  {
   "cell_type": "code",
   "execution_count": 4,
   "metadata": {},
   "outputs": [],
   "source": [
    "def prepare_dataframe(df):\n",
    "    print(\"Removing unnecessary columns\")\n",
    "    \n",
    "    # find and drop all normalized columns\n",
    "    cols = [c for c in df.columns if (c.lower().find(\"normalized\")!=-1)]\n",
    "    df=df.drop(columns=cols)\n",
    "\n",
    "    # also drop the model and capacity columns as we don't need them\n",
    "    df = df.drop(columns=['model','capacity_bytes'])\n",
    "\n",
    "    # convert string dates to datetime format\n",
    "    df['date'] = pd.to_datetime(df['date'])\n",
    "\n",
    "    # sort data by serial number and dates so ready for sequence creation\n",
    "    print(\"Sorting the data frame based on serial number and date\")\n",
    "    df = df.sort_values(by=['serial_number', 'date'], axis=0, ascending=True)\n",
    "    df = df.reset_index(drop=True)\n",
    "    \n",
    "    # ensure no NaN's in data\n",
    "    df = df.fillna(0)\n",
    "    \n",
    "    return df"
   ]
  },
  {
   "cell_type": "markdown",
   "metadata": {},
   "source": [
    "We run the preparation step over both train and test datasets."
   ]
  },
  {
   "cell_type": "code",
   "execution_count": 5,
   "metadata": {
    "scrolled": true
   },
   "outputs": [
    {
     "name": "stdout",
     "output_type": "stream",
     "text": [
      "Processing train set...\n",
      "Removing unnecessary columns\n",
      "Sorting the data frame based on serial number and date\n",
      "\n",
      "Processing test set...\n",
      "Removing unnecessary columns\n",
      "Sorting the data frame based on serial number and date\n"
     ]
    }
   ],
   "source": [
    "print(\"Processing train set...\")\n",
    "df_train = prepare_dataframe(df_train)\n",
    "\n",
    "print(\"\")\n",
    "print(\"Processing test set...\")\n",
    "df_test = prepare_dataframe(df_test)"
   ]
  },
  {
   "cell_type": "markdown",
   "metadata": {},
   "source": [
    "### Create sequences from data sets\n",
    "\n",
    "In this section, we create sequences of data based on the serial numbers. To have a better understanding of this process, we need to elaborate on the architecture of the deep learning model that consumes the data. We start with a high-level architecture at this section, and later we will elaborate the model in more details."
   ]
  },
  {
   "cell_type": "markdown",
   "metadata": {},
   "source": [
    "\n",
    "<img src=\"img/lstm_simple.png\" style=\"margin-top:10px;width:600px;\"/>\n",
    "<p style=\"text-align: center;color:gray\"> Figure 3. Basic RNN model. </p>\n",
    "\n",
    "In figure 3, a simplified version of the RNN architecture is shown. Here we have `n` time steps representing each data point in the DataFrame. Also, only the last RNN (LSTM) cell is outputting the value $y$, which in our model indicates whether the data sequence ends up in a failure state or not.\n",
    "Note that the input values $x_1, x_2, …, x_n$ are multi-dimensional values and not single scalars.\n",
    "\n",
    "One important question is how to choose the value $n$. Our dataset contains lengthy time series sequences for each hard drive. Below, we choose a sequence length of _5_ and later ask the students to experiment with other values and justify their value of choice."
   ]
  },
  {
   "cell_type": "markdown",
   "metadata": {},
   "source": [
    "### Preparing Training Data"
   ]
  },
  {
   "cell_type": "markdown",
   "metadata": {},
   "source": [
    "Normally, we'd create sequences from all of the data that we have.  Even with the small data sets that we have, that can take more than 4 hours.  For this lab, we will simplify the process to make the time reasonable.\n",
    "\n",
    "To create 'sequences' for training our Time Series models, we will first sort the data by serial number and date (which we did above).  This will allow us to grab groups of sequential records to create each sequence. \n",
    "\n",
    "Next, we reviewed all the records to ensure that we had data reported for every day so we could create consistent sequences.  In the case of this data set, for 2017, there were 2 holes where data wasn't reported, and we used a fill-forward technique to recreate this data.\n",
    "\n",
    "To create models to predict into the future, we will use a \"lookahead_days\" parameter to see how far in the future we want the model to be trained to identify failures.  Determining how many days to lookahead is very dependent on your environment and the nature of the failures.  For the hard drives, during the creation of the lab, we tried 14 days, but we the models we created, with the minimal amount of data we use for this lab, were not very accurate.  In looking at the visualizations from Lab 1, some of the anomalous sensor values seemed to only occur 1-2 days prior to the failure, and we have selected 2 days.  In practice, this is another parameter that can be tuned.\n",
    "\n",
    "With the data all prepared, we can create sequences.\n",
    "\n",
    "Failed Records:\n",
    "\n",
    "Next, we create failed record sequences.  To do this, we will find all of the failed disk records.  Then, we will move back \"lookahead_days\" as this will be the last record in the sequence we are creating.  Then, we will take the previous $sequence length-1$ records and combine it with this last sequence record to create a sequence of records that ends up with a failure \"lookahead_days\" later.  In the case of our data set, there are so few failed disks (~1600) that we will use all of them to train our model.\n",
    "\n",
    "Normal Records:\n",
    "\n",
    "For normal records, we will first identify all disks (by serial_number) that did not have a failure.  Then, we will select a subset of the disks (to shorten the time) to create sequences for.  To create the sequence, we will walk sequentially through the records for a given disk and create sequences from that record and the next $sequence length-1$ records.  So, our first sequence (for length 5) would be Day 1-Day 5.  Then, we will go to the next day and create a sequence of Day 2-Day6."
   ]
  },
  {
   "cell_type": "code",
   "execution_count": 6,
   "metadata": {},
   "outputs": [],
   "source": [
    "# Routine to return serial numbers of good and bad disks\n",
    "\n",
    "def get_disk_serials(df, num_disks):\n",
    "    # Get failed serial numbers\n",
    "    failed_serials = df[df['failure'] == 1]['serial_number'].unique().tolist()\n",
    "\n",
    "    # Get serial numbers for disks that didn't fail - first remove failed disks\n",
    "    df_tmp = df[~df.serial_number.isin(failed_serials)]\n",
    "    normal_serials = df_tmp.serial_number.value_counts()[:num_disks].index.tolist()\n",
    "\n",
    "    print('Normal Disk Serials:',len(normal_serials))\n",
    "    print('Failed Disk Serials:',len(failed_serials))\n",
    "\n",
    "    return normal_serials, failed_serials"
   ]
  },
  {
   "cell_type": "markdown",
   "metadata": {},
   "source": [
    "This routine checks all the records for a given serial number to ensure we are not skipping any days.  For consistency in training our model, we need to ensure that there is a data record for each date."
   ]
  },
  {
   "cell_type": "code",
   "execution_count": 7,
   "metadata": {},
   "outputs": [],
   "source": [
    "import numpy as np\n",
    "\n",
    "def adjust_dates(df_loc): \n",
    "    df_mod = pd.DataFrame()\n",
    "    cur_serial = df_loc['serial_number'].unique().tolist()[0]\n",
    "    col_list = df_loc.columns.tolist()\n",
    "    cur_dates = df_loc['date'].values\n",
    "    \n",
    "    # determine number of days between last record and first record\n",
    "    num_date_range = int((cur_dates[-1] - cur_dates[0]).astype('timedelta64[D]')/ np.timedelta64(1, 'D'))+1\n",
    "    \n",
    "    # do we have records for each day or are there holes ?  If so, fill them.\n",
    "    if num_date_range > cur_dates.shape[0]:\n",
    "        i_low = 0\n",
    "        \n",
    "        # step through all days to ensure next date correct\n",
    "        for i in range(cur_dates.shape[0]-1): \n",
    "            \n",
    "            # calculate number of days between current data and next data - should be 1 day\n",
    "            diff_days = int((cur_dates[i+1] - cur_dates[i]).astype('timedelta64[D]')/ np.timedelta64(1, 'D'))\n",
    "            \n",
    "            # if not 1 day, fill in missing days with forward fill\n",
    "            if diff_days > 1:\n",
    "                df_mod = df_mod.append(df_loc.iloc[i_low:i+1])\n",
    "                tmp_array = np.empty((diff_days-1,len(col_list),))\n",
    "                tmp_array[:] = np.nan\n",
    "                df_add = pd.DataFrame(tmp_array,columns=col_list)\n",
    "                df_add['date'] = [ cur_dates[i] + np.timedelta64(1, 'D')*j for j in range(1,diff_days)]\n",
    "                df_mod = df_mod.append(df_add)\n",
    "                i_low = i+1\n",
    "\n",
    "        # add missing records and use forward fill to update missing sensor data\n",
    "        df_mod = df_mod.append(df_loc.iloc[i_low:])\n",
    "        df_mod = df_mod.fillna(method=\"ffill\")\n",
    "    else:\n",
    "        df_mod = df_loc \n",
    "    \n",
    "    return df_mod "
   ]
  },
  {
   "cell_type": "markdown",
   "metadata": {},
   "source": [
    "This routine fills in missing data to ensure we have consistent sequences."
   ]
  },
  {
   "cell_type": "code",
   "execution_count": 8,
   "metadata": {},
   "outputs": [],
   "source": [
    "def fix_date_gaps(df, normal_serials=None, failed_serials=None):\n",
    "    df_fixed = pd.DataFrame()\n",
    "\n",
    "    serials_list = normal_serials + failed_serials \n",
    "    for i, cur_serial in enumerate(serials_list): \n",
    "        df_fixed = df_fixed.append(adjust_dates(df[df['serial_number'] == cur_serial]))\n",
    "        \n",
    "    return df_fixed.reset_index(drop=True)"
   ]
  },
  {
   "cell_type": "markdown",
   "metadata": {},
   "source": [
    "This routine builds failed sequences by finding the failure and then going back \"lookahead\" days and building a sequence based on the previous \"sequence_length\" days."
   ]
  },
  {
   "cell_type": "code",
   "execution_count": 9,
   "metadata": {},
   "outputs": [],
   "source": [
    "# Routine to return failed sequences \n",
    "def create_failed_sequences(df, sequence_length, lookahead):\n",
    "\n",
    "    failed_serials = df.serial_number.unique().tolist()\n",
    "    print(\"Number of failed serials : \", len(failed_serials)) \n",
    "\n",
    "    failed_seq_list = []\n",
    "    for serial in failed_serials:\n",
    "        df_tmp = df[df['serial_number'] == serial]\n",
    "        df_tmp = df_tmp.reset_index(drop=True)\n",
    "        num_recs = df_tmp.index.size\n",
    "        \n",
    "        # if enough records, add failed sequence\n",
    "        if num_recs > (sequence_length+lookahead): \n",
    "            # find first failure\n",
    "            df_failed = df_tmp[df_tmp['failure'] == 1]\n",
    "            \n",
    "            # find end of sequence - going back \"lookahead\" days from failure\n",
    "            idx2 = df_failed.index[0] - lookahead + 1\n",
    "            \n",
    "            # find beginning of sequence\n",
    "            idx1 = idx2 - sequence_length\n",
    "            \n",
    "            if idx1 > 0: \n",
    "                failed_seq_list.append(df_tmp.iloc[idx1:idx2,:])\n",
    "    \n",
    "    print(\"Number of failed sequences :\", len(failed_seq_list)) \n",
    "    \n",
    "    return pd.concat(failed_seq_list)"
   ]
  },
  {
   "cell_type": "code",
   "execution_count": 10,
   "metadata": {},
   "outputs": [],
   "source": [
    "# Routine to pick some serial_numbers and create all sequences from those disks up to num_normal sequences\n",
    "def create_normal_sequences(df, sequence_length, num_normal, lookahead, day_step=1):\n",
    "    normal_seq_list = []\n",
    "    num_seq = 0\n",
    "    \n",
    "    # ensure no failed sequences\n",
    "    if df[df['failure'] == 1].index.size > 0: return None \n",
    "    \n",
    "    # get list of normal serial numbers\n",
    "    normal_serials = df.serial_number.unique().tolist()\n",
    "    \n",
    "    print(\"Number of normal serials : \", len(normal_serials)) \n",
    "    \n",
    "    for serial in normal_serials:\n",
    "        df_tmp = df[df['serial_number'] == serial]\n",
    "        num_recs = df_tmp.shape[0]\n",
    "        \n",
    "        # \n",
    "        for i in range(0, num_recs-(sequence_length+lookahead)+1, day_step):\n",
    "            if (num_seq < num_normal):\n",
    "                normal_seq_list.append(df_tmp.iloc[i:i+sequence_length])\n",
    "                num_seq += 1\n",
    "    \n",
    "    print(\"Number of normal sequences :\", len(normal_seq_list))\n",
    "    \n",
    "    return pd.concat(normal_seq_list)\n"
   ]
  },
  {
   "cell_type": "code",
   "execution_count": 11,
   "metadata": {},
   "outputs": [],
   "source": [
    "# Routine to add column \"sequence_label\" indicating whether this was a normal or failed sequence.\n",
    "# We will use this later for as label for training.\n",
    "def label_sequence(df, label):\n",
    "    df.insert(2, 'sequence_label', np.full(df.shape[0], label), True)\n",
    "    return"
   ]
  },
  {
   "cell_type": "code",
   "execution_count": 12,
   "metadata": {},
   "outputs": [],
   "source": [
    "# Specify key parameters - you can change and re-run to test different configurations\n",
    "sequence_length = 5          # Number of days in sequence to train to detect and predict failure\n",
    "lookahead_days = 1           # Number of days in future to predict failure\n",
    "num_normal_disks = 20        # Maximum number of normal disks to look at\n",
    "max_normal_sequences = 4000  # Maximum number of normal sequences to create"
   ]
  },
  {
   "cell_type": "code",
   "execution_count": 13,
   "metadata": {},
   "outputs": [
    {
     "name": "stdout",
     "output_type": "stream",
     "text": [
      "Determining good and bad disk serial numbers\n",
      "Normal Disk Serials: 20\n",
      "Failed Disk Serials: 1061\n",
      "Total Records before fixing date gaps : (189830, 27)\n",
      "Total Records after fixing date gaps  : (194895, 27)\n",
      "Creating sequences for normal disks\n",
      "Number of normal serials :  20\n",
      "Number of normal sequences : 4000\n",
      "Creating sequences for failed disks\n",
      "Number of failed serials :  1061\n",
      "Number of failed sequences : 1041\n"
     ]
    }
   ],
   "source": [
    "# get pools of serial numbers for good and bad disks\n",
    "print(\"Determining good and bad disk serial numbers\")\n",
    "normal_serials, bad_serials = get_disk_serials(df_train, num_normal_disks)\n",
    "\n",
    "df_selected = df_train[df_train.serial_number.isin(normal_serials + bad_serials)]\n",
    "print('Total Records before fixing date gaps :', df_selected.shape)\n",
    "\n",
    "df_selected = fix_date_gaps(df_selected, normal_serials, bad_serials)\n",
    "print('Total Records after fixing date gaps  :', df_selected.shape)\n",
    "    \n",
    "# get sequences\n",
    "print(\"Creating sequences for normal disks\")\n",
    "normal_sequences = create_normal_sequences(df_selected[df_selected.serial_number.isin(normal_serials)], \n",
    "                                           sequence_length, max_normal_sequences, lookahead_days)\n",
    "\n",
    "# add field to indicate normal sequence\n",
    "label_sequence(normal_sequences, 0)\n",
    "\n",
    "print(\"Creating sequences for failed disks\")\n",
    "failure_sequences = create_failed_sequences(df_selected[df_selected.serial_number.isin(bad_serials)],\n",
    "                                            sequence_length, lookahead_days)\n",
    "\n",
    "# add field to indicate failing sequence\n",
    "label_sequence(failure_sequences, 1)\n",
    "\n",
    "# combine to creating training set\n",
    "train_samples = pd.concat([normal_sequences, failure_sequences]).reset_index(drop=True)"
   ]
  },
  {
   "cell_type": "markdown",
   "metadata": {},
   "source": [
    "Let's look at a few normal disk sequences.  You should see 'sequence_length' records in a row that are sequential days for the same disk.  You'll see the first sequence contains day 1-day 5 (for sequence_length 5) and the second sequence contains day 2-day 6."
   ]
  },
  {
   "cell_type": "code",
   "execution_count": 14,
   "metadata": {},
   "outputs": [
    {
     "data": {
      "text/html": [
       "<div>\n",
       "<style scoped>\n",
       "    .dataframe tbody tr th:only-of-type {\n",
       "        vertical-align: middle;\n",
       "    }\n",
       "\n",
       "    .dataframe tbody tr th {\n",
       "        vertical-align: top;\n",
       "    }\n",
       "\n",
       "    .dataframe thead th {\n",
       "        text-align: right;\n",
       "    }\n",
       "</style>\n",
       "<table border=\"1\" class=\"dataframe\">\n",
       "  <thead>\n",
       "    <tr style=\"text-align: right;\">\n",
       "      <th></th>\n",
       "      <th>date</th>\n",
       "      <th>serial_number</th>\n",
       "      <th>sequence_label</th>\n",
       "      <th>failure</th>\n",
       "      <th>smart_1_raw</th>\n",
       "      <th>smart_3_raw</th>\n",
       "      <th>smart_4_raw</th>\n",
       "      <th>smart_5_raw</th>\n",
       "      <th>smart_7_raw</th>\n",
       "      <th>smart_9_raw</th>\n",
       "      <th>...</th>\n",
       "      <th>smart_191_raw</th>\n",
       "      <th>smart_192_raw</th>\n",
       "      <th>smart_193_raw</th>\n",
       "      <th>smart_194_raw</th>\n",
       "      <th>smart_197_raw</th>\n",
       "      <th>smart_198_raw</th>\n",
       "      <th>smart_199_raw</th>\n",
       "      <th>smart_240_raw</th>\n",
       "      <th>smart_241_raw</th>\n",
       "      <th>smart_242_raw</th>\n",
       "    </tr>\n",
       "  </thead>\n",
       "  <tbody>\n",
       "    <tr>\n",
       "      <th>0</th>\n",
       "      <td>2017-01-01</td>\n",
       "      <td>Z300KC5L</td>\n",
       "      <td>0</td>\n",
       "      <td>0.0</td>\n",
       "      <td>70280168.0</td>\n",
       "      <td>0.0</td>\n",
       "      <td>13.0</td>\n",
       "      <td>0.0</td>\n",
       "      <td>866352864.0</td>\n",
       "      <td>29042.0</td>\n",
       "      <td>...</td>\n",
       "      <td>0.0</td>\n",
       "      <td>3.0</td>\n",
       "      <td>21982.0</td>\n",
       "      <td>26.0</td>\n",
       "      <td>0.0</td>\n",
       "      <td>0.0</td>\n",
       "      <td>0.0</td>\n",
       "      <td>28947.0</td>\n",
       "      <td>3.047652e+10</td>\n",
       "      <td>1.482313e+11</td>\n",
       "    </tr>\n",
       "    <tr>\n",
       "      <th>1</th>\n",
       "      <td>2017-01-02</td>\n",
       "      <td>Z300KC5L</td>\n",
       "      <td>0</td>\n",
       "      <td>0.0</td>\n",
       "      <td>45851840.0</td>\n",
       "      <td>0.0</td>\n",
       "      <td>13.0</td>\n",
       "      <td>0.0</td>\n",
       "      <td>867030746.0</td>\n",
       "      <td>29066.0</td>\n",
       "      <td>...</td>\n",
       "      <td>0.0</td>\n",
       "      <td>3.0</td>\n",
       "      <td>21982.0</td>\n",
       "      <td>26.0</td>\n",
       "      <td>0.0</td>\n",
       "      <td>0.0</td>\n",
       "      <td>0.0</td>\n",
       "      <td>28971.0</td>\n",
       "      <td>3.048050e+10</td>\n",
       "      <td>1.482649e+11</td>\n",
       "    </tr>\n",
       "    <tr>\n",
       "      <th>2</th>\n",
       "      <td>2017-01-03</td>\n",
       "      <td>Z300KC5L</td>\n",
       "      <td>0</td>\n",
       "      <td>0.0</td>\n",
       "      <td>7463496.0</td>\n",
       "      <td>0.0</td>\n",
       "      <td>13.0</td>\n",
       "      <td>0.0</td>\n",
       "      <td>867739021.0</td>\n",
       "      <td>29089.0</td>\n",
       "      <td>...</td>\n",
       "      <td>0.0</td>\n",
       "      <td>3.0</td>\n",
       "      <td>21982.0</td>\n",
       "      <td>26.0</td>\n",
       "      <td>0.0</td>\n",
       "      <td>0.0</td>\n",
       "      <td>0.0</td>\n",
       "      <td>28994.0</td>\n",
       "      <td>3.048582e+10</td>\n",
       "      <td>1.483021e+11</td>\n",
       "    </tr>\n",
       "    <tr>\n",
       "      <th>3</th>\n",
       "      <td>2017-01-04</td>\n",
       "      <td>Z300KC5L</td>\n",
       "      <td>0</td>\n",
       "      <td>0.0</td>\n",
       "      <td>2075272.0</td>\n",
       "      <td>0.0</td>\n",
       "      <td>13.0</td>\n",
       "      <td>0.0</td>\n",
       "      <td>868471789.0</td>\n",
       "      <td>29114.0</td>\n",
       "      <td>...</td>\n",
       "      <td>0.0</td>\n",
       "      <td>3.0</td>\n",
       "      <td>21982.0</td>\n",
       "      <td>26.0</td>\n",
       "      <td>0.0</td>\n",
       "      <td>0.0</td>\n",
       "      <td>0.0</td>\n",
       "      <td>29019.0</td>\n",
       "      <td>3.049139e+10</td>\n",
       "      <td>1.483400e+11</td>\n",
       "    </tr>\n",
       "    <tr>\n",
       "      <th>4</th>\n",
       "      <td>2017-01-05</td>\n",
       "      <td>Z300KC5L</td>\n",
       "      <td>0</td>\n",
       "      <td>0.0</td>\n",
       "      <td>209190200.0</td>\n",
       "      <td>0.0</td>\n",
       "      <td>13.0</td>\n",
       "      <td>0.0</td>\n",
       "      <td>869192900.0</td>\n",
       "      <td>29138.0</td>\n",
       "      <td>...</td>\n",
       "      <td>0.0</td>\n",
       "      <td>3.0</td>\n",
       "      <td>21982.0</td>\n",
       "      <td>25.0</td>\n",
       "      <td>0.0</td>\n",
       "      <td>0.0</td>\n",
       "      <td>0.0</td>\n",
       "      <td>29043.0</td>\n",
       "      <td>3.049733e+10</td>\n",
       "      <td>1.483785e+11</td>\n",
       "    </tr>\n",
       "    <tr>\n",
       "      <th>1</th>\n",
       "      <td>2017-01-02</td>\n",
       "      <td>Z300KC5L</td>\n",
       "      <td>0</td>\n",
       "      <td>0.0</td>\n",
       "      <td>45851840.0</td>\n",
       "      <td>0.0</td>\n",
       "      <td>13.0</td>\n",
       "      <td>0.0</td>\n",
       "      <td>867030746.0</td>\n",
       "      <td>29066.0</td>\n",
       "      <td>...</td>\n",
       "      <td>0.0</td>\n",
       "      <td>3.0</td>\n",
       "      <td>21982.0</td>\n",
       "      <td>26.0</td>\n",
       "      <td>0.0</td>\n",
       "      <td>0.0</td>\n",
       "      <td>0.0</td>\n",
       "      <td>28971.0</td>\n",
       "      <td>3.048050e+10</td>\n",
       "      <td>1.482649e+11</td>\n",
       "    </tr>\n",
       "    <tr>\n",
       "      <th>2</th>\n",
       "      <td>2017-01-03</td>\n",
       "      <td>Z300KC5L</td>\n",
       "      <td>0</td>\n",
       "      <td>0.0</td>\n",
       "      <td>7463496.0</td>\n",
       "      <td>0.0</td>\n",
       "      <td>13.0</td>\n",
       "      <td>0.0</td>\n",
       "      <td>867739021.0</td>\n",
       "      <td>29089.0</td>\n",
       "      <td>...</td>\n",
       "      <td>0.0</td>\n",
       "      <td>3.0</td>\n",
       "      <td>21982.0</td>\n",
       "      <td>26.0</td>\n",
       "      <td>0.0</td>\n",
       "      <td>0.0</td>\n",
       "      <td>0.0</td>\n",
       "      <td>28994.0</td>\n",
       "      <td>3.048582e+10</td>\n",
       "      <td>1.483021e+11</td>\n",
       "    </tr>\n",
       "    <tr>\n",
       "      <th>3</th>\n",
       "      <td>2017-01-04</td>\n",
       "      <td>Z300KC5L</td>\n",
       "      <td>0</td>\n",
       "      <td>0.0</td>\n",
       "      <td>2075272.0</td>\n",
       "      <td>0.0</td>\n",
       "      <td>13.0</td>\n",
       "      <td>0.0</td>\n",
       "      <td>868471789.0</td>\n",
       "      <td>29114.0</td>\n",
       "      <td>...</td>\n",
       "      <td>0.0</td>\n",
       "      <td>3.0</td>\n",
       "      <td>21982.0</td>\n",
       "      <td>26.0</td>\n",
       "      <td>0.0</td>\n",
       "      <td>0.0</td>\n",
       "      <td>0.0</td>\n",
       "      <td>29019.0</td>\n",
       "      <td>3.049139e+10</td>\n",
       "      <td>1.483400e+11</td>\n",
       "    </tr>\n",
       "    <tr>\n",
       "      <th>4</th>\n",
       "      <td>2017-01-05</td>\n",
       "      <td>Z300KC5L</td>\n",
       "      <td>0</td>\n",
       "      <td>0.0</td>\n",
       "      <td>209190200.0</td>\n",
       "      <td>0.0</td>\n",
       "      <td>13.0</td>\n",
       "      <td>0.0</td>\n",
       "      <td>869192900.0</td>\n",
       "      <td>29138.0</td>\n",
       "      <td>...</td>\n",
       "      <td>0.0</td>\n",
       "      <td>3.0</td>\n",
       "      <td>21982.0</td>\n",
       "      <td>25.0</td>\n",
       "      <td>0.0</td>\n",
       "      <td>0.0</td>\n",
       "      <td>0.0</td>\n",
       "      <td>29043.0</td>\n",
       "      <td>3.049733e+10</td>\n",
       "      <td>1.483785e+11</td>\n",
       "    </tr>\n",
       "    <tr>\n",
       "      <th>5</th>\n",
       "      <td>2017-01-06</td>\n",
       "      <td>Z300KC5L</td>\n",
       "      <td>0</td>\n",
       "      <td>0.0</td>\n",
       "      <td>218546040.0</td>\n",
       "      <td>0.0</td>\n",
       "      <td>13.0</td>\n",
       "      <td>0.0</td>\n",
       "      <td>869939278.0</td>\n",
       "      <td>29161.0</td>\n",
       "      <td>...</td>\n",
       "      <td>0.0</td>\n",
       "      <td>3.0</td>\n",
       "      <td>21984.0</td>\n",
       "      <td>25.0</td>\n",
       "      <td>0.0</td>\n",
       "      <td>0.0</td>\n",
       "      <td>0.0</td>\n",
       "      <td>29066.0</td>\n",
       "      <td>3.050279e+10</td>\n",
       "      <td>1.484103e+11</td>\n",
       "    </tr>\n",
       "  </tbody>\n",
       "</table>\n",
       "<p>10 rows × 28 columns</p>\n",
       "</div>"
      ],
      "text/plain": [
       "        date serial_number  sequence_label  failure  smart_1_raw  smart_3_raw  \\\n",
       "0 2017-01-01      Z300KC5L               0      0.0   70280168.0          0.0   \n",
       "1 2017-01-02      Z300KC5L               0      0.0   45851840.0          0.0   \n",
       "2 2017-01-03      Z300KC5L               0      0.0    7463496.0          0.0   \n",
       "3 2017-01-04      Z300KC5L               0      0.0    2075272.0          0.0   \n",
       "4 2017-01-05      Z300KC5L               0      0.0  209190200.0          0.0   \n",
       "1 2017-01-02      Z300KC5L               0      0.0   45851840.0          0.0   \n",
       "2 2017-01-03      Z300KC5L               0      0.0    7463496.0          0.0   \n",
       "3 2017-01-04      Z300KC5L               0      0.0    2075272.0          0.0   \n",
       "4 2017-01-05      Z300KC5L               0      0.0  209190200.0          0.0   \n",
       "5 2017-01-06      Z300KC5L               0      0.0  218546040.0          0.0   \n",
       "\n",
       "   smart_4_raw  smart_5_raw  smart_7_raw  smart_9_raw  ...  smart_191_raw  \\\n",
       "0         13.0          0.0  866352864.0      29042.0  ...            0.0   \n",
       "1         13.0          0.0  867030746.0      29066.0  ...            0.0   \n",
       "2         13.0          0.0  867739021.0      29089.0  ...            0.0   \n",
       "3         13.0          0.0  868471789.0      29114.0  ...            0.0   \n",
       "4         13.0          0.0  869192900.0      29138.0  ...            0.0   \n",
       "1         13.0          0.0  867030746.0      29066.0  ...            0.0   \n",
       "2         13.0          0.0  867739021.0      29089.0  ...            0.0   \n",
       "3         13.0          0.0  868471789.0      29114.0  ...            0.0   \n",
       "4         13.0          0.0  869192900.0      29138.0  ...            0.0   \n",
       "5         13.0          0.0  869939278.0      29161.0  ...            0.0   \n",
       "\n",
       "   smart_192_raw  smart_193_raw  smart_194_raw  smart_197_raw  smart_198_raw  \\\n",
       "0            3.0        21982.0           26.0            0.0            0.0   \n",
       "1            3.0        21982.0           26.0            0.0            0.0   \n",
       "2            3.0        21982.0           26.0            0.0            0.0   \n",
       "3            3.0        21982.0           26.0            0.0            0.0   \n",
       "4            3.0        21982.0           25.0            0.0            0.0   \n",
       "1            3.0        21982.0           26.0            0.0            0.0   \n",
       "2            3.0        21982.0           26.0            0.0            0.0   \n",
       "3            3.0        21982.0           26.0            0.0            0.0   \n",
       "4            3.0        21982.0           25.0            0.0            0.0   \n",
       "5            3.0        21984.0           25.0            0.0            0.0   \n",
       "\n",
       "   smart_199_raw  smart_240_raw  smart_241_raw  smart_242_raw  \n",
       "0            0.0        28947.0   3.047652e+10   1.482313e+11  \n",
       "1            0.0        28971.0   3.048050e+10   1.482649e+11  \n",
       "2            0.0        28994.0   3.048582e+10   1.483021e+11  \n",
       "3            0.0        29019.0   3.049139e+10   1.483400e+11  \n",
       "4            0.0        29043.0   3.049733e+10   1.483785e+11  \n",
       "1            0.0        28971.0   3.048050e+10   1.482649e+11  \n",
       "2            0.0        28994.0   3.048582e+10   1.483021e+11  \n",
       "3            0.0        29019.0   3.049139e+10   1.483400e+11  \n",
       "4            0.0        29043.0   3.049733e+10   1.483785e+11  \n",
       "5            0.0        29066.0   3.050279e+10   1.484103e+11  \n",
       "\n",
       "[10 rows x 28 columns]"
      ]
     },
     "execution_count": 14,
     "metadata": {},
     "output_type": "execute_result"
    }
   ],
   "source": [
    "normal_sequences.head(2*sequence_length)"
   ]
  },
  {
   "cell_type": "markdown",
   "metadata": {},
   "source": [
    "Now, let's look \"lookahead\" days past the first failed sequence to see the actual failure in the future."
   ]
  },
  {
   "cell_type": "code",
   "execution_count": 15,
   "metadata": {},
   "outputs": [
    {
     "name": "stdout",
     "output_type": "stream",
     "text": [
      "First Failure Sequence\n"
     ]
    },
    {
     "data": {
      "text/html": [
       "<div>\n",
       "<style scoped>\n",
       "    .dataframe tbody tr th:only-of-type {\n",
       "        vertical-align: middle;\n",
       "    }\n",
       "\n",
       "    .dataframe tbody tr th {\n",
       "        vertical-align: top;\n",
       "    }\n",
       "\n",
       "    .dataframe thead th {\n",
       "        text-align: right;\n",
       "    }\n",
       "</style>\n",
       "<table border=\"1\" class=\"dataframe\">\n",
       "  <thead>\n",
       "    <tr style=\"text-align: right;\">\n",
       "      <th></th>\n",
       "      <th>date</th>\n",
       "      <th>serial_number</th>\n",
       "      <th>sequence_label</th>\n",
       "      <th>failure</th>\n",
       "      <th>smart_1_raw</th>\n",
       "      <th>smart_3_raw</th>\n",
       "      <th>smart_4_raw</th>\n",
       "      <th>smart_5_raw</th>\n",
       "      <th>smart_7_raw</th>\n",
       "      <th>smart_9_raw</th>\n",
       "      <th>...</th>\n",
       "      <th>smart_191_raw</th>\n",
       "      <th>smart_192_raw</th>\n",
       "      <th>smart_193_raw</th>\n",
       "      <th>smart_194_raw</th>\n",
       "      <th>smart_197_raw</th>\n",
       "      <th>smart_198_raw</th>\n",
       "      <th>smart_199_raw</th>\n",
       "      <th>smart_240_raw</th>\n",
       "      <th>smart_241_raw</th>\n",
       "      <th>smart_242_raw</th>\n",
       "    </tr>\n",
       "  </thead>\n",
       "  <tbody>\n",
       "    <tr>\n",
       "      <th>49</th>\n",
       "      <td>2017-02-19</td>\n",
       "      <td>S30070F5</td>\n",
       "      <td>1</td>\n",
       "      <td>0.0</td>\n",
       "      <td>83295096.0</td>\n",
       "      <td>0.0</td>\n",
       "      <td>8.0</td>\n",
       "      <td>0.0</td>\n",
       "      <td>531725607.0</td>\n",
       "      <td>25281.0</td>\n",
       "      <td>...</td>\n",
       "      <td>0.0</td>\n",
       "      <td>2.0</td>\n",
       "      <td>8249.0</td>\n",
       "      <td>30.0</td>\n",
       "      <td>0.0</td>\n",
       "      <td>0.0</td>\n",
       "      <td>0.0</td>\n",
       "      <td>25210.0</td>\n",
       "      <td>2.316110e+10</td>\n",
       "      <td>8.881304e+10</td>\n",
       "    </tr>\n",
       "    <tr>\n",
       "      <th>50</th>\n",
       "      <td>2017-02-20</td>\n",
       "      <td>S30070F5</td>\n",
       "      <td>1</td>\n",
       "      <td>0.0</td>\n",
       "      <td>73725216.0</td>\n",
       "      <td>0.0</td>\n",
       "      <td>8.0</td>\n",
       "      <td>0.0</td>\n",
       "      <td>532565600.0</td>\n",
       "      <td>25305.0</td>\n",
       "      <td>...</td>\n",
       "      <td>0.0</td>\n",
       "      <td>2.0</td>\n",
       "      <td>8249.0</td>\n",
       "      <td>29.0</td>\n",
       "      <td>0.0</td>\n",
       "      <td>0.0</td>\n",
       "      <td>0.0</td>\n",
       "      <td>25234.0</td>\n",
       "      <td>2.316667e+10</td>\n",
       "      <td>8.884915e+10</td>\n",
       "    </tr>\n",
       "    <tr>\n",
       "      <th>51</th>\n",
       "      <td>2017-02-21</td>\n",
       "      <td>S30070F5</td>\n",
       "      <td>1</td>\n",
       "      <td>0.0</td>\n",
       "      <td>41438696.0</td>\n",
       "      <td>0.0</td>\n",
       "      <td>8.0</td>\n",
       "      <td>0.0</td>\n",
       "      <td>533423914.0</td>\n",
       "      <td>25329.0</td>\n",
       "      <td>...</td>\n",
       "      <td>0.0</td>\n",
       "      <td>2.0</td>\n",
       "      <td>8249.0</td>\n",
       "      <td>29.0</td>\n",
       "      <td>0.0</td>\n",
       "      <td>0.0</td>\n",
       "      <td>0.0</td>\n",
       "      <td>25258.0</td>\n",
       "      <td>2.317391e+10</td>\n",
       "      <td>8.888442e+10</td>\n",
       "    </tr>\n",
       "    <tr>\n",
       "      <th>52</th>\n",
       "      <td>2017-02-22</td>\n",
       "      <td>S30070F5</td>\n",
       "      <td>1</td>\n",
       "      <td>0.0</td>\n",
       "      <td>25482720.0</td>\n",
       "      <td>0.0</td>\n",
       "      <td>8.0</td>\n",
       "      <td>0.0</td>\n",
       "      <td>534282220.0</td>\n",
       "      <td>25353.0</td>\n",
       "      <td>...</td>\n",
       "      <td>0.0</td>\n",
       "      <td>2.0</td>\n",
       "      <td>8249.0</td>\n",
       "      <td>30.0</td>\n",
       "      <td>0.0</td>\n",
       "      <td>0.0</td>\n",
       "      <td>0.0</td>\n",
       "      <td>25282.0</td>\n",
       "      <td>2.318148e+10</td>\n",
       "      <td>8.892227e+10</td>\n",
       "    </tr>\n",
       "    <tr>\n",
       "      <th>53</th>\n",
       "      <td>2017-02-23</td>\n",
       "      <td>S30070F5</td>\n",
       "      <td>1</td>\n",
       "      <td>0.0</td>\n",
       "      <td>233703728.0</td>\n",
       "      <td>0.0</td>\n",
       "      <td>8.0</td>\n",
       "      <td>0.0</td>\n",
       "      <td>535136227.0</td>\n",
       "      <td>25377.0</td>\n",
       "      <td>...</td>\n",
       "      <td>0.0</td>\n",
       "      <td>2.0</td>\n",
       "      <td>8249.0</td>\n",
       "      <td>29.0</td>\n",
       "      <td>0.0</td>\n",
       "      <td>0.0</td>\n",
       "      <td>0.0</td>\n",
       "      <td>25306.0</td>\n",
       "      <td>2.318899e+10</td>\n",
       "      <td>8.895852e+10</td>\n",
       "    </tr>\n",
       "  </tbody>\n",
       "</table>\n",
       "<p>5 rows × 28 columns</p>\n",
       "</div>"
      ],
      "text/plain": [
       "         date serial_number  sequence_label  failure  smart_1_raw  \\\n",
       "49 2017-02-19      S30070F5               1      0.0   83295096.0   \n",
       "50 2017-02-20      S30070F5               1      0.0   73725216.0   \n",
       "51 2017-02-21      S30070F5               1      0.0   41438696.0   \n",
       "52 2017-02-22      S30070F5               1      0.0   25482720.0   \n",
       "53 2017-02-23      S30070F5               1      0.0  233703728.0   \n",
       "\n",
       "    smart_3_raw  smart_4_raw  smart_5_raw  smart_7_raw  smart_9_raw  ...  \\\n",
       "49          0.0          8.0          0.0  531725607.0      25281.0  ...   \n",
       "50          0.0          8.0          0.0  532565600.0      25305.0  ...   \n",
       "51          0.0          8.0          0.0  533423914.0      25329.0  ...   \n",
       "52          0.0          8.0          0.0  534282220.0      25353.0  ...   \n",
       "53          0.0          8.0          0.0  535136227.0      25377.0  ...   \n",
       "\n",
       "    smart_191_raw  smart_192_raw  smart_193_raw  smart_194_raw  smart_197_raw  \\\n",
       "49            0.0            2.0         8249.0           30.0            0.0   \n",
       "50            0.0            2.0         8249.0           29.0            0.0   \n",
       "51            0.0            2.0         8249.0           29.0            0.0   \n",
       "52            0.0            2.0         8249.0           30.0            0.0   \n",
       "53            0.0            2.0         8249.0           29.0            0.0   \n",
       "\n",
       "    smart_198_raw  smart_199_raw  smart_240_raw  smart_241_raw  smart_242_raw  \n",
       "49            0.0            0.0        25210.0   2.316110e+10   8.881304e+10  \n",
       "50            0.0            0.0        25234.0   2.316667e+10   8.884915e+10  \n",
       "51            0.0            0.0        25258.0   2.317391e+10   8.888442e+10  \n",
       "52            0.0            0.0        25282.0   2.318148e+10   8.892227e+10  \n",
       "53            0.0            0.0        25306.0   2.318899e+10   8.895852e+10  \n",
       "\n",
       "[5 rows x 28 columns]"
      ]
     },
     "execution_count": 15,
     "metadata": {},
     "output_type": "execute_result"
    }
   ],
   "source": [
    "print('First Failure Sequence')\n",
    "failure_sequences.head(sequence_length)"
   ]
  },
  {
   "cell_type": "markdown",
   "metadata": {},
   "source": [
    "Now, let's check the record \"lookahead\" days in the future to see that we did encounter a failure on that date."
   ]
  },
  {
   "cell_type": "code",
   "execution_count": 16,
   "metadata": {},
   "outputs": [
    {
     "name": "stdout",
     "output_type": "stream",
     "text": [
      "We should see a failure below 1 days after the sequence above.\n"
     ]
    },
    {
     "data": {
      "text/html": [
       "<div>\n",
       "<style scoped>\n",
       "    .dataframe tbody tr th:only-of-type {\n",
       "        vertical-align: middle;\n",
       "    }\n",
       "\n",
       "    .dataframe tbody tr th {\n",
       "        vertical-align: top;\n",
       "    }\n",
       "\n",
       "    .dataframe thead th {\n",
       "        text-align: right;\n",
       "    }\n",
       "</style>\n",
       "<table border=\"1\" class=\"dataframe\">\n",
       "  <thead>\n",
       "    <tr style=\"text-align: right;\">\n",
       "      <th></th>\n",
       "      <th>date</th>\n",
       "      <th>serial_number</th>\n",
       "      <th>failure</th>\n",
       "      <th>smart_1_raw</th>\n",
       "      <th>smart_3_raw</th>\n",
       "      <th>smart_4_raw</th>\n",
       "      <th>smart_5_raw</th>\n",
       "      <th>smart_7_raw</th>\n",
       "      <th>smart_9_raw</th>\n",
       "      <th>smart_10_raw</th>\n",
       "      <th>...</th>\n",
       "      <th>smart_191_raw</th>\n",
       "      <th>smart_192_raw</th>\n",
       "      <th>smart_193_raw</th>\n",
       "      <th>smart_194_raw</th>\n",
       "      <th>smart_197_raw</th>\n",
       "      <th>smart_198_raw</th>\n",
       "      <th>smart_199_raw</th>\n",
       "      <th>smart_240_raw</th>\n",
       "      <th>smart_241_raw</th>\n",
       "      <th>smart_242_raw</th>\n",
       "    </tr>\n",
       "  </thead>\n",
       "  <tbody>\n",
       "    <tr>\n",
       "      <th>16559</th>\n",
       "      <td>2017-02-24</td>\n",
       "      <td>S30070F5</td>\n",
       "      <td>1</td>\n",
       "      <td>184511376.0</td>\n",
       "      <td>0.0</td>\n",
       "      <td>8.0</td>\n",
       "      <td>0.0</td>\n",
       "      <td>535953309.0</td>\n",
       "      <td>25401.0</td>\n",
       "      <td>0.0</td>\n",
       "      <td>...</td>\n",
       "      <td>0.0</td>\n",
       "      <td>2.0</td>\n",
       "      <td>8249.0</td>\n",
       "      <td>29.0</td>\n",
       "      <td>0.0</td>\n",
       "      <td>0.0</td>\n",
       "      <td>0.0</td>\n",
       "      <td>25330.0</td>\n",
       "      <td>2.319425e+10</td>\n",
       "      <td>8.899058e+10</td>\n",
       "    </tr>\n",
       "  </tbody>\n",
       "</table>\n",
       "<p>1 rows × 27 columns</p>\n",
       "</div>"
      ],
      "text/plain": [
       "            date serial_number  failure  smart_1_raw  smart_3_raw  \\\n",
       "16559 2017-02-24      S30070F5        1  184511376.0          0.0   \n",
       "\n",
       "       smart_4_raw  smart_5_raw  smart_7_raw  smart_9_raw  smart_10_raw  ...  \\\n",
       "16559          8.0          0.0  535953309.0      25401.0           0.0  ...   \n",
       "\n",
       "       smart_191_raw  smart_192_raw  smart_193_raw  smart_194_raw  \\\n",
       "16559            0.0            2.0         8249.0           29.0   \n",
       "\n",
       "       smart_197_raw  smart_198_raw  smart_199_raw  smart_240_raw  \\\n",
       "16559            0.0            0.0            0.0        25330.0   \n",
       "\n",
       "       smart_241_raw  smart_242_raw  \n",
       "16559   2.319425e+10   8.899058e+10  \n",
       "\n",
       "[1 rows x 27 columns]"
      ]
     },
     "execution_count": 16,
     "metadata": {},
     "output_type": "execute_result"
    }
   ],
   "source": [
    "first_fail_serial = failure_sequences['serial_number'].iloc[0]\n",
    "df_tmp = df_train[df_train['serial_number'] == first_fail_serial]\n",
    "first_fail_index = df_tmp[df_tmp['failure'] == 1].iloc[0]\n",
    "\n",
    "print(\"We should see a failure below\",lookahead_days, \"days after the sequence above.\")\n",
    "df_tmp[df_tmp['failure'] == 1].head(1)"
   ]
  },
  {
   "cell_type": "markdown",
   "metadata": {},
   "source": [
    "Let's output how many training records we have.  It's not a lot of data, but the process we go through is that same whether it's 1000's or 1M's of records."
   ]
  },
  {
   "cell_type": "code",
   "execution_count": 17,
   "metadata": {},
   "outputs": [
    {
     "name": "stdout",
     "output_type": "stream",
     "text": [
      "Training Sequences: 5041\n"
     ]
    }
   ],
   "source": [
    "# check samples\n",
    "num_seq = int(train_samples.shape[0] / sequence_length)\n",
    "print('Training Sequences:', num_seq)"
   ]
  },
  {
   "cell_type": "markdown",
   "metadata": {},
   "source": [
    "Since our objects are huge and in order to prevent memory leaks, we are going to store the data, clear the objects, and retrieve them later."
   ]
  },
  {
   "cell_type": "code",
   "execution_count": 18,
   "metadata": {},
   "outputs": [
    {
     "data": {
      "text/plain": [
       "0"
      ]
     },
     "execution_count": 18,
     "metadata": {},
     "output_type": "execute_result"
    }
   ],
   "source": [
    "import gc\n",
    "\n",
    "# Store filesnames for later use\n",
    "lab2_train_file = data_dir + 'Lab2-LSTM_train_data_' + str(sequence_length) + '.pkl'\n",
    "lab2_test_file =  data_dir + 'Lab2-LSTM_test_data_' + str(sequence_length) + '.pkl'\n",
    "\n",
    "# Save away training data\n",
    "train_samples.to_pickle(lab2_train_file)\n",
    "del (train_samples)\n",
    "gc.collect()"
   ]
  },
  {
   "cell_type": "markdown",
   "metadata": {},
   "source": [
    "Next, we repeat the same process for the test set."
   ]
  },
  {
   "cell_type": "code",
   "execution_count": 19,
   "metadata": {},
   "outputs": [
    {
     "name": "stdout",
     "output_type": "stream",
     "text": [
      "Determining good and bad disk serial numbers\n",
      "Normal Disk Serials: 20\n",
      "Failed Disk Serials: 234\n",
      "Total Records before fixing date gaps : (12605, 27)\n",
      "Total Records after fixing date gaps  : (12605, 27)\n",
      "Creating sequences for normal disks\n",
      "Number of normal serials :  20\n",
      "Number of normal sequences : 1740\n",
      "Creating sequences for failed disks\n",
      "Number of failed serials :  234\n",
      "Number of failed sequences : 216\n"
     ]
    }
   ],
   "source": [
    "# get pools of serial numbers for good and bad disks\n",
    "print(\"Determining good and bad disk serial numbers\")\n",
    "normal_serials, bad_serials = get_disk_serials(df_test, num_normal_disks)\n",
    "\n",
    "df_selected = df_test[df_test.serial_number.isin(normal_serials + bad_serials)]\n",
    "print('Total Records before fixing date gaps :', df_selected.shape)\n",
    "\n",
    "df_selected = fix_date_gaps(df_selected, normal_serials, bad_serials)\n",
    "print('Total Records after fixing date gaps  :', df_selected.shape)\n",
    "    \n",
    "# get sequences\n",
    "print(\"Creating sequences for normal disks\")\n",
    "normal_sequences = create_normal_sequences(df_selected[df_selected.serial_number.isin(normal_serials)], \n",
    "                                           sequence_length, max_normal_sequences, lookahead_days)\n",
    "\n",
    "# add field to indicate normal sequence\n",
    "label_sequence(normal_sequences, 0)\n",
    "\n",
    "print(\"Creating sequences for failed disks\")\n",
    "failure_sequences = create_failed_sequences(df_selected[df_selected.serial_number.isin(bad_serials)],\n",
    "                                            sequence_length, lookahead_days)\n",
    "\n",
    "# add field to indicate failure sequence\n",
    "label_sequence(failure_sequences, 1)\n",
    "\n",
    "# combine to creating training set\n",
    "test_samples = pd.concat([normal_sequences, failure_sequences]).reset_index(drop=True)"
   ]
  },
  {
   "cell_type": "markdown",
   "metadata": {},
   "source": [
    "Now that we've created samples for testing let's store them away."
   ]
  },
  {
   "cell_type": "code",
   "execution_count": 20,
   "metadata": {},
   "outputs": [
    {
     "data": {
      "text/plain": [
       "0"
      ]
     },
     "execution_count": 20,
     "metadata": {},
     "output_type": "execute_result"
    }
   ],
   "source": [
    "# store away training and test samples\n",
    "test_samples.to_pickle(lab2_test_file)\n",
    "del (test_samples)\n",
    "gc.collect()"
   ]
  },
  {
   "cell_type": "markdown",
   "metadata": {},
   "source": [
    "<a name=\"8\"></a>\n",
    "## Creating X and y labels"
   ]
  },
  {
   "cell_type": "markdown",
   "metadata": {},
   "source": [
    "We are going to cleanly read the LSTM training and test data sets in."
   ]
  },
  {
   "cell_type": "code",
   "execution_count": 21,
   "metadata": {
    "scrolled": true
   },
   "outputs": [
    {
     "data": {
      "text/html": [
       "<div>\n",
       "<style scoped>\n",
       "    .dataframe tbody tr th:only-of-type {\n",
       "        vertical-align: middle;\n",
       "    }\n",
       "\n",
       "    .dataframe tbody tr th {\n",
       "        vertical-align: top;\n",
       "    }\n",
       "\n",
       "    .dataframe thead th {\n",
       "        text-align: right;\n",
       "    }\n",
       "</style>\n",
       "<table border=\"1\" class=\"dataframe\">\n",
       "  <thead>\n",
       "    <tr style=\"text-align: right;\">\n",
       "      <th></th>\n",
       "      <th>date</th>\n",
       "      <th>serial_number</th>\n",
       "      <th>sequence_label</th>\n",
       "      <th>failure</th>\n",
       "      <th>smart_1_raw</th>\n",
       "      <th>smart_3_raw</th>\n",
       "      <th>smart_4_raw</th>\n",
       "      <th>smart_5_raw</th>\n",
       "      <th>smart_7_raw</th>\n",
       "      <th>smart_9_raw</th>\n",
       "      <th>...</th>\n",
       "      <th>smart_191_raw</th>\n",
       "      <th>smart_192_raw</th>\n",
       "      <th>smart_193_raw</th>\n",
       "      <th>smart_194_raw</th>\n",
       "      <th>smart_197_raw</th>\n",
       "      <th>smart_198_raw</th>\n",
       "      <th>smart_199_raw</th>\n",
       "      <th>smart_240_raw</th>\n",
       "      <th>smart_241_raw</th>\n",
       "      <th>smart_242_raw</th>\n",
       "    </tr>\n",
       "  </thead>\n",
       "  <tbody>\n",
       "    <tr>\n",
       "      <th>0</th>\n",
       "      <td>2017-01-01</td>\n",
       "      <td>Z300KC5L</td>\n",
       "      <td>0</td>\n",
       "      <td>0.0</td>\n",
       "      <td>70280168.0</td>\n",
       "      <td>0.0</td>\n",
       "      <td>13.0</td>\n",
       "      <td>0.0</td>\n",
       "      <td>866352864.0</td>\n",
       "      <td>29042.0</td>\n",
       "      <td>...</td>\n",
       "      <td>0.0</td>\n",
       "      <td>3.0</td>\n",
       "      <td>21982.0</td>\n",
       "      <td>26.0</td>\n",
       "      <td>0.0</td>\n",
       "      <td>0.0</td>\n",
       "      <td>0.0</td>\n",
       "      <td>28947.0</td>\n",
       "      <td>3.047652e+10</td>\n",
       "      <td>1.482313e+11</td>\n",
       "    </tr>\n",
       "    <tr>\n",
       "      <th>1</th>\n",
       "      <td>2017-01-02</td>\n",
       "      <td>Z300KC5L</td>\n",
       "      <td>0</td>\n",
       "      <td>0.0</td>\n",
       "      <td>45851840.0</td>\n",
       "      <td>0.0</td>\n",
       "      <td>13.0</td>\n",
       "      <td>0.0</td>\n",
       "      <td>867030746.0</td>\n",
       "      <td>29066.0</td>\n",
       "      <td>...</td>\n",
       "      <td>0.0</td>\n",
       "      <td>3.0</td>\n",
       "      <td>21982.0</td>\n",
       "      <td>26.0</td>\n",
       "      <td>0.0</td>\n",
       "      <td>0.0</td>\n",
       "      <td>0.0</td>\n",
       "      <td>28971.0</td>\n",
       "      <td>3.048050e+10</td>\n",
       "      <td>1.482649e+11</td>\n",
       "    </tr>\n",
       "    <tr>\n",
       "      <th>2</th>\n",
       "      <td>2017-01-03</td>\n",
       "      <td>Z300KC5L</td>\n",
       "      <td>0</td>\n",
       "      <td>0.0</td>\n",
       "      <td>7463496.0</td>\n",
       "      <td>0.0</td>\n",
       "      <td>13.0</td>\n",
       "      <td>0.0</td>\n",
       "      <td>867739021.0</td>\n",
       "      <td>29089.0</td>\n",
       "      <td>...</td>\n",
       "      <td>0.0</td>\n",
       "      <td>3.0</td>\n",
       "      <td>21982.0</td>\n",
       "      <td>26.0</td>\n",
       "      <td>0.0</td>\n",
       "      <td>0.0</td>\n",
       "      <td>0.0</td>\n",
       "      <td>28994.0</td>\n",
       "      <td>3.048582e+10</td>\n",
       "      <td>1.483021e+11</td>\n",
       "    </tr>\n",
       "    <tr>\n",
       "      <th>3</th>\n",
       "      <td>2017-01-04</td>\n",
       "      <td>Z300KC5L</td>\n",
       "      <td>0</td>\n",
       "      <td>0.0</td>\n",
       "      <td>2075272.0</td>\n",
       "      <td>0.0</td>\n",
       "      <td>13.0</td>\n",
       "      <td>0.0</td>\n",
       "      <td>868471789.0</td>\n",
       "      <td>29114.0</td>\n",
       "      <td>...</td>\n",
       "      <td>0.0</td>\n",
       "      <td>3.0</td>\n",
       "      <td>21982.0</td>\n",
       "      <td>26.0</td>\n",
       "      <td>0.0</td>\n",
       "      <td>0.0</td>\n",
       "      <td>0.0</td>\n",
       "      <td>29019.0</td>\n",
       "      <td>3.049139e+10</td>\n",
       "      <td>1.483400e+11</td>\n",
       "    </tr>\n",
       "    <tr>\n",
       "      <th>4</th>\n",
       "      <td>2017-01-05</td>\n",
       "      <td>Z300KC5L</td>\n",
       "      <td>0</td>\n",
       "      <td>0.0</td>\n",
       "      <td>209190200.0</td>\n",
       "      <td>0.0</td>\n",
       "      <td>13.0</td>\n",
       "      <td>0.0</td>\n",
       "      <td>869192900.0</td>\n",
       "      <td>29138.0</td>\n",
       "      <td>...</td>\n",
       "      <td>0.0</td>\n",
       "      <td>3.0</td>\n",
       "      <td>21982.0</td>\n",
       "      <td>25.0</td>\n",
       "      <td>0.0</td>\n",
       "      <td>0.0</td>\n",
       "      <td>0.0</td>\n",
       "      <td>29043.0</td>\n",
       "      <td>3.049733e+10</td>\n",
       "      <td>1.483785e+11</td>\n",
       "    </tr>\n",
       "  </tbody>\n",
       "</table>\n",
       "<p>5 rows × 28 columns</p>\n",
       "</div>"
      ],
      "text/plain": [
       "        date serial_number  sequence_label  failure  smart_1_raw  smart_3_raw  \\\n",
       "0 2017-01-01      Z300KC5L               0      0.0   70280168.0          0.0   \n",
       "1 2017-01-02      Z300KC5L               0      0.0   45851840.0          0.0   \n",
       "2 2017-01-03      Z300KC5L               0      0.0    7463496.0          0.0   \n",
       "3 2017-01-04      Z300KC5L               0      0.0    2075272.0          0.0   \n",
       "4 2017-01-05      Z300KC5L               0      0.0  209190200.0          0.0   \n",
       "\n",
       "   smart_4_raw  smart_5_raw  smart_7_raw  smart_9_raw  ...  smart_191_raw  \\\n",
       "0         13.0          0.0  866352864.0      29042.0  ...            0.0   \n",
       "1         13.0          0.0  867030746.0      29066.0  ...            0.0   \n",
       "2         13.0          0.0  867739021.0      29089.0  ...            0.0   \n",
       "3         13.0          0.0  868471789.0      29114.0  ...            0.0   \n",
       "4         13.0          0.0  869192900.0      29138.0  ...            0.0   \n",
       "\n",
       "   smart_192_raw  smart_193_raw  smart_194_raw  smart_197_raw  smart_198_raw  \\\n",
       "0            3.0        21982.0           26.0            0.0            0.0   \n",
       "1            3.0        21982.0           26.0            0.0            0.0   \n",
       "2            3.0        21982.0           26.0            0.0            0.0   \n",
       "3            3.0        21982.0           26.0            0.0            0.0   \n",
       "4            3.0        21982.0           25.0            0.0            0.0   \n",
       "\n",
       "   smart_199_raw  smart_240_raw  smart_241_raw  smart_242_raw  \n",
       "0            0.0        28947.0   3.047652e+10   1.482313e+11  \n",
       "1            0.0        28971.0   3.048050e+10   1.482649e+11  \n",
       "2            0.0        28994.0   3.048582e+10   1.483021e+11  \n",
       "3            0.0        29019.0   3.049139e+10   1.483400e+11  \n",
       "4            0.0        29043.0   3.049733e+10   1.483785e+11  \n",
       "\n",
       "[5 rows x 28 columns]"
      ]
     },
     "execution_count": 21,
     "metadata": {},
     "output_type": "execute_result"
    }
   ],
   "source": [
    "# Read datasets back in cleanly\n",
    "df_train = pd.read_pickle(lab2_train_file)\n",
    "df_test = pd.read_pickle(lab2_test_file)\n",
    "\n",
    "df_train.head(sequence_length)"
   ]
  },
  {
   "cell_type": "markdown",
   "metadata": {},
   "source": [
    "Before creating X and y labels, there are certain columns that we need to get rid of. As an example, we can safely remove the `date` column. While the date column values helped us creating the sequences, they cannot be used for training/inference purposes (why?).\n",
    "\n",
    "Also, the `serial_number` and `failure` columns will not be used. Discuss why these two columns are not required."
   ]
  },
  {
   "cell_type": "raw",
   "metadata": {},
   "source": [
    "# Discuss your answers here:  "
   ]
  },
  {
   "cell_type": "markdown",
   "metadata": {},
   "source": [
    "<a name=\"e1\"></a>\n",
    "### Exercise 1: Create class labels\n",
    "\n",
    "To train the model, we need to have the class labels for each sample. Complete the \"TODO\" sections below to store the class labels for `df_train` and `df_test` DataFrames."
   ]
  },
  {
   "cell_type": "code",
   "execution_count": 31,
   "metadata": {
    "scrolled": true
   },
   "outputs": [],
   "source": [
    "# index data will hold disk serial numbers for relevant samples. We do not need serial numbers as training or testing features\n",
    "drop_columns_list = ['date','serial_number', 'failure', 'sequence_label']\n",
    "\n",
    "x_train = df_train.drop(columns=drop_columns_list)\n",
    "x_test = df_test.drop(columns=drop_columns_list)\n",
    "\n",
    "y_train = df_train['sequence_label']\n",
    "y_test = df_test['sequence_label']"
   ]
  },
  {
   "cell_type": "markdown",
   "metadata": {},
   "source": [
    "If you get stuck, click [here](#a1) for an answer."
   ]
  },
  {
   "cell_type": "markdown",
   "metadata": {},
   "source": [
    "Previously, we removed the normalized columns and kept the raw ones. The reason behind this was that the normalized columns are generated based on much more samples from the original set and hence, do not represent the distribution accurately. In this section, we are going to normalize values in both test and train sets. We will utilize [preprocessing.StandardScaler().fit()](https://scikit-learn.org/stable/modules/generated/sklearn.preprocessing.StandardScaler.html) method for this purpose, but first we need to convert the Pandas DataFrame to NumPy arrays:"
   ]
  },
  {
   "cell_type": "code",
   "execution_count": 32,
   "metadata": {},
   "outputs": [],
   "source": [
    "from sklearn import preprocessing\n",
    "\n",
    "# X train data\n",
    "x_train = x_train.values.astype(np.float64)\n",
    "scaler = preprocessing.StandardScaler().fit(x_train)\n",
    "x_train = scaler.transform(x_train)\n",
    "\n",
    "# X test data\n",
    "x_test = x_test.values.astype(np.float64)\n",
    "x_test = scaler.transform(x_test)"
   ]
  },
  {
   "cell_type": "markdown",
   "metadata": {},
   "source": [
    "<a name=\"e2\"></a>\n",
    "### Exercise 2: Reshaping the training data\n",
    "\n",
    "Next, we need to reshape the array to get 3D data (num_samples, timesteps, num_features) needed to feed LSTM. Fix to TODO sections below to reshape the data accordingly."
   ]
  },
  {
   "cell_type": "code",
   "execution_count": 33,
   "metadata": {},
   "outputs": [
    {
     "name": "stdout",
     "output_type": "stream",
     "text": [
      "Reshaping training and test data for LSTM\n",
      "- Original Train Shape: (25205, 24)\n",
      "- Final Train Shape:    (5041, 5, 24)\n"
     ]
    }
   ],
   "source": [
    "print(\"Reshaping training and test data for LSTM\")\n",
    "print(\"- Original Train Shape:\", x_train.shape)\n",
    "\n",
    "x_train = x_train.reshape(int(x_train.shape[0]/sequence_length), sequence_length, x_train.shape[1])\n",
    "x_test = x_test.reshape(int(x_test.shape[0]/sequence_length), sequence_length, x_test.shape[1])\n",
    "\n",
    "print(\"- Final Train Shape:   \", x_train.shape)\n",
    "data_shape = x_train.shape[1:]"
   ]
  },
  {
   "cell_type": "markdown",
   "metadata": {},
   "source": [
    "If you get stuck, click [here](#a2) for an answer."
   ]
  },
  {
   "cell_type": "markdown",
   "metadata": {},
   "source": [
    "Finally we create the y labels (failed or not) for both test and train sets (last column of `y_train` and `y_test`):"
   ]
  },
  {
   "cell_type": "code",
   "execution_count": 34,
   "metadata": {},
   "outputs": [
    {
     "data": {
      "text/plain": [
       "14"
      ]
     },
     "execution_count": 34,
     "metadata": {},
     "output_type": "execute_result"
    }
   ],
   "source": [
    "# Y train data\n",
    "y_train = y_train.values[0::sequence_length]\n",
    "\n",
    "# Y test data\n",
    "y_test = y_test.values[0::sequence_length]\n",
    "\n",
    "gc.collect()"
   ]
  },
  {
   "cell_type": "markdown",
   "metadata": {},
   "source": [
    "<a name=\"9\"></a>\n",
    "## Model Design\n",
    "We've finally arrived at the neural network design! Previously, we provided a simplistic overview of the network. In this section, we are going to discuss the full network design first and then build the model using Keras.\n",
    "\n",
    "In figure 3, we showed how we utilize the output of the last LSTM node in the sequence to create the relevant output. In reality, one-layer LSTM nodes are barely enough to capture the information encoded within a sequence. Alternatively, [stacked LSTMs](https://machinelearningmastery.com/stacked-long-short-term-memory-networks/) allow capturing more data complexity. In our model, we are going to use three layers of stacked LSTMs, as shown in figure 4.\n",
    "\n",
    "\n",
    "<img src=\"img/lstm_stacked.png\" style=\"margin-top:10px;width:600px;\"/>\n",
    "<p style=\"text-align: center;color:gray\"> Figure 4.  Stacked LSTM layers. </p>\n",
    "\n",
    "There is an important difference between the bottom two layers and the top one. While all cells of the bottom two layers send their outputs to their upper layer, the topmost layer has only one output which is used for classification purposes. This is achieved by setting the `return_sequences` in the LSTM definition."
   ]
  },
  {
   "cell_type": "code",
   "execution_count": 35,
   "metadata": {},
   "outputs": [
    {
     "name": "stdout",
     "output_type": "stream",
     "text": [
      "WARNING:tensorflow:From /opt/conda/envs/rapids/lib/python3.6/site-packages/tensorflow/python/framework/op_def_library.py:263: colocate_with (from tensorflow.python.framework.ops) is deprecated and will be removed in a future version.\n",
      "Instructions for updating:\n",
      "Colocations handled automatically by placer.\n",
      "WARNING:tensorflow:From /opt/conda/envs/rapids/lib/python3.6/site-packages/keras/backend/tensorflow_backend.py:3733: calling dropout (from tensorflow.python.ops.nn_ops) with keep_prob is deprecated and will be removed in a future version.\n",
      "Instructions for updating:\n",
      "Please use `rate` instead of `keep_prob`. Rate should be set to `rate = 1 - keep_prob`.\n"
     ]
    }
   ],
   "source": [
    "from keras.models import Sequential\n",
    "from keras.layers import LSTM\n",
    "\n",
    "# some parameters to control model\n",
    "dp_lvl = 0.2\n",
    "regularizer_lvl = 0.002\n",
    "units = 64\n",
    "# network design\n",
    "model = Sequential()\n",
    "model.add(LSTM(units, input_shape=(x_train.shape[1], x_train.shape[2]),dropout = dp_lvl,recurrent_dropout = dp_lvl, return_sequences =  True ))\n",
    "model.add(LSTM(units, dropout = dp_lvl,recurrent_dropout = dp_lvl, return_sequences =  True ))\n",
    "model.add(LSTM(units, dropout = dp_lvl,recurrent_dropout = dp_lvl, return_sequences =  False ))"
   ]
  },
  {
   "cell_type": "markdown",
   "metadata": {},
   "source": [
    "Note that the `units` variable holds the number of output dimensionality for each cell. At the next level, we add three fully-connected (FC) layers. The first FC layer is followed by a [Dropout layer](https://www.tensorflow.org/api_docs/python/tf/keras/layers/Dropout). The [Dropout method](https://www.analyticsvidhya.com/blog/2018/04/fundamentals-deep-learning-regularization-techniques/) is a regularization technique to reduce the possibility of overfitting during training. Using this method, some randomly selected neurons are ignored during training. During the forward pass, the selected neurons do not contribute to the activation function, and their weights are also not updated within the backward phase. The last layer has a single output which indicates whether the output of the sequence is a faulty hard drive or not. Let's add those three layers to our model:"
   ]
  },
  {
   "cell_type": "code",
   "execution_count": 36,
   "metadata": {},
   "outputs": [],
   "source": [
    "from keras import regularizers\n",
    "from keras.layers import Dense, Dropout\n",
    "\n",
    "model.add(Dense(units, activation='tanh',activity_regularizer=regularizers.l2(regularizer_lvl)))\n",
    "\n",
    "# Dropout is a technique used to tackle Overfitting.\n",
    "model.add(Dropout (0.2))\n",
    "model.add(Dense(units, activation='tanh',activity_regularizer=regularizers.l2(regularizer_lvl)))\n",
    "model.add(Dense(1, activation='tanh',activity_regularizer=regularizers.l2(regularizer_lvl)))"
   ]
  },
  {
   "cell_type": "markdown",
   "metadata": {},
   "source": [
    "With that, our model is complete and ready to train. Let's first take an overall look at the model we have built."
   ]
  },
  {
   "cell_type": "code",
   "execution_count": 37,
   "metadata": {},
   "outputs": [
    {
     "name": "stdout",
     "output_type": "stream",
     "text": [
      "Model: \"sequential_1\"\n",
      "_________________________________________________________________\n",
      "Layer (type)                 Output Shape              Param #   \n",
      "=================================================================\n",
      "lstm_1 (LSTM)                (None, 5, 64)             22784     \n",
      "_________________________________________________________________\n",
      "lstm_2 (LSTM)                (None, 5, 64)             33024     \n",
      "_________________________________________________________________\n",
      "lstm_3 (LSTM)                (None, 64)                33024     \n",
      "_________________________________________________________________\n",
      "dense_1 (Dense)              (None, 64)                4160      \n",
      "_________________________________________________________________\n",
      "dropout_1 (Dropout)          (None, 64)                0         \n",
      "_________________________________________________________________\n",
      "dense_2 (Dense)              (None, 64)                4160      \n",
      "_________________________________________________________________\n",
      "dense_3 (Dense)              (None, 1)                 65        \n",
      "=================================================================\n",
      "Total params: 97,217\n",
      "Trainable params: 97,217\n",
      "Non-trainable params: 0\n",
      "_________________________________________________________________\n"
     ]
    }
   ],
   "source": [
    "model.summary()"
   ]
  },
  {
   "cell_type": "markdown",
   "metadata": {},
   "source": [
    "<a name=\"10\"></a>\n",
    "## Training the Model\n",
    "\n",
    "\n",
    "There are a few parameters that we need to define before proceeding with the training. We set the [learning rate](https://machinelearningmastery.com/understand-the-dynamics-of-learning-rate-on-deep-learning-neural-networks/), the number of epochs, checkpoint file locations, [decay](https://towardsdatascience.com/learning-rate-schedules-and-adaptive-learning-rate-methods-for-deep-learning-2c8f433990d1), and more importantly define a numerical optimizer, [Adam](https://arxiv.org/abs/1412.6980), to train the network.\n"
   ]
  },
  {
   "cell_type": "code",
   "execution_count": 38,
   "metadata": {},
   "outputs": [
    {
     "name": "stdout",
     "output_type": "stream",
     "text": [
      "Training using multiple GPUs..\n"
     ]
    }
   ],
   "source": [
    "from keras.callbacks import ModelCheckpoint, EarlyStopping\n",
    "from keras.optimizers import Adam\n",
    "from keras.utils import multi_gpu_model\n",
    "\n",
    "epochs_num = 50\n",
    "learning_rate = 0.001\n",
    "decay_rate = 3 * learning_rate / epochs_num\n",
    "optimizer = Adam(lr=learning_rate, beta_1=0.9, beta_2=0.999, epsilon=None,decay = decay_rate)\n",
    "\n",
    "try:\n",
    "    gpu_model = multi_gpu_model(model, gpus=gpu, cpu_merge=False)\n",
    "    print(\"Training using multiple GPUs..\")\n",
    "except:\n",
    "    gpu_model = model\n",
    "    print(\"Training using single GPU\")\n",
    "\n",
    "gpu_model.compile(optimizer=optimizer,loss='binary_crossentropy',metrics=['accuracy', 'mae'])\n",
    "\n",
    "# checkpoint\n",
    "model_fn = \"best_model.h5\"\n",
    "model_filepath=data_dir+model_fn\n",
    "\n",
    "checkpoint = ModelCheckpoint(model_filepath, monitor='val_acc', verbose=1, save_best_only=True, mode='max')\n",
    "es = EarlyStopping(patience=20, verbose=1)\n",
    "\n",
    "callbacks_list = [es, checkpoint]"
   ]
  },
  {
   "cell_type": "markdown",
   "metadata": {},
   "source": [
    "With the model defined and data loaded, let's go ahead and train the model.\n",
    "\n",
    "Remember - Our model is learning the sequences that lead up to failure a few days before the failure occurs (imposed through the way data is labeled).  This can be used as guidance on when we might perform predictive maintenance.  In our case, that would be replacing a disk driver prior to an expected failure.\n",
    "\n",
    "<span style=\"background-color:red;color:white;padding:1px,3px\"><b>Note:</b></span> At the beginning, the weights are initialized randomly. Sometimes, specific weight initialization and network settings lead to early overfitting. Since our training data is small, this may occur more often. If you see an early convergence of accuracy to 1.00, e.g.:\n",
    "\n",
    "```\n",
    "Epoch 00002: val_acc did not improve from 1.00000\n",
    "```\n",
    "\n",
    "you need to start the training over. In the above example, notice that the epoch number 2 is still very early in the training and the network has already overfitted.\n",
    "\n",
    "Now start the training:"
   ]
  },
  {
   "cell_type": "code",
   "execution_count": 39,
   "metadata": {},
   "outputs": [
    {
     "name": "stdout",
     "output_type": "stream",
     "text": [
      "WARNING:tensorflow:From /opt/conda/envs/rapids/lib/python3.6/site-packages/tensorflow/python/ops/math_ops.py:3066: to_int32 (from tensorflow.python.ops.math_ops) is deprecated and will be removed in a future version.\n",
      "Instructions for updating:\n",
      "Use tf.cast instead.\n",
      "Train on 4536 samples, validate on 505 samples\n",
      "Epoch 1/50\n",
      "4536/4536 [==============================] - 17s 4ms/step - loss: 0.4311 - acc: 0.8935 - mean_absolute_error: 0.2018 - val_loss: 9.2364 - val_acc: 0.1109 - val_mean_absolute_error: 0.9005\n",
      "\n",
      "Epoch 00001: val_acc improved from -inf to 0.11089, saving model to ./data/best_model.h5\n",
      "Epoch 2/50\n",
      "4536/4536 [==============================] - 11s 2ms/step - loss: 0.4681 - acc: 0.9101 - mean_absolute_error: 0.2174 - val_loss: 1.9079 - val_acc: 0.2911 - val_mean_absolute_error: 0.6621\n",
      "\n",
      "Epoch 00002: val_acc improved from 0.11089 to 0.29109, saving model to ./data/best_model.h5\n",
      "Epoch 3/50\n",
      "4536/4536 [==============================] - 11s 2ms/step - loss: 0.3552 - acc: 0.9374 - mean_absolute_error: 0.1708 - val_loss: 1.7157 - val_acc: 0.2832 - val_mean_absolute_error: 0.6529\n",
      "\n",
      "Epoch 00003: val_acc did not improve from 0.29109\n",
      "Epoch 4/50\n",
      "4536/4536 [==============================] - 11s 2ms/step - loss: 0.3457 - acc: 0.9339 - mean_absolute_error: 0.1739 - val_loss: 3.2760 - val_acc: 0.3030 - val_mean_absolute_error: 0.6685\n",
      "\n",
      "Epoch 00004: val_acc improved from 0.29109 to 0.30297, saving model to ./data/best_model.h5\n",
      "Epoch 5/50\n",
      "4536/4536 [==============================] - 11s 2ms/step - loss: 0.3454 - acc: 0.9356 - mean_absolute_error: 0.1847 - val_loss: 3.7008 - val_acc: 0.2891 - val_mean_absolute_error: 0.6811\n",
      "\n",
      "Epoch 00005: val_acc did not improve from 0.30297\n",
      "Epoch 6/50\n",
      "4536/4536 [==============================] - 11s 2ms/step - loss: 0.3274 - acc: 0.9458 - mean_absolute_error: 0.1648 - val_loss: 4.8284 - val_acc: 0.3782 - val_mean_absolute_error: 0.6403\n",
      "\n",
      "Epoch 00006: val_acc improved from 0.30297 to 0.37822, saving model to ./data/best_model.h5\n",
      "Epoch 7/50\n",
      "4536/4536 [==============================] - 11s 2ms/step - loss: 0.2824 - acc: 0.9451 - mean_absolute_error: 0.1631 - val_loss: 1.0116 - val_acc: 0.3228 - val_mean_absolute_error: 0.5793\n",
      "\n",
      "Epoch 00007: val_acc did not improve from 0.37822\n",
      "Epoch 8/50\n",
      "4536/4536 [==============================] - 11s 2ms/step - loss: 0.3358 - acc: 0.9398 - mean_absolute_error: 0.1908 - val_loss: 2.1213 - val_acc: 0.3861 - val_mean_absolute_error: 0.6000\n",
      "\n",
      "Epoch 00008: val_acc improved from 0.37822 to 0.38614, saving model to ./data/best_model.h5\n",
      "Epoch 9/50\n",
      "4536/4536 [==============================] - 11s 2ms/step - loss: 0.3366 - acc: 0.9409 - mean_absolute_error: 0.2114 - val_loss: 2.0013 - val_acc: 0.3267 - val_mean_absolute_error: 0.6476\n",
      "\n",
      "Epoch 00009: val_acc did not improve from 0.38614\n",
      "Epoch 10/50\n",
      "4536/4536 [==============================] - 11s 2ms/step - loss: 0.2554 - acc: 0.9535 - mean_absolute_error: 0.1498 - val_loss: 4.7603 - val_acc: 0.4455 - val_mean_absolute_error: 0.5924\n",
      "\n",
      "Epoch 00010: val_acc improved from 0.38614 to 0.44554, saving model to ./data/best_model.h5\n",
      "Epoch 11/50\n",
      "4536/4536 [==============================] - 11s 2ms/step - loss: 0.2817 - acc: 0.9544 - mean_absolute_error: 0.1536 - val_loss: 3.6657 - val_acc: 0.4653 - val_mean_absolute_error: 0.5619\n",
      "\n",
      "Epoch 00011: val_acc improved from 0.44554 to 0.46535, saving model to ./data/best_model.h5\n",
      "Epoch 12/50\n",
      "4536/4536 [==============================] - 11s 2ms/step - loss: 0.2647 - acc: 0.9592 - mean_absolute_error: 0.1435 - val_loss: 4.3866 - val_acc: 0.5287 - val_mean_absolute_error: 0.5238\n",
      "\n",
      "Epoch 00012: val_acc improved from 0.46535 to 0.52871, saving model to ./data/best_model.h5\n",
      "Epoch 13/50\n",
      "4536/4536 [==============================] - 11s 2ms/step - loss: 0.2697 - acc: 0.9597 - mean_absolute_error: 0.1539 - val_loss: 3.8794 - val_acc: 0.5228 - val_mean_absolute_error: 0.5302\n",
      "\n",
      "Epoch 00013: val_acc did not improve from 0.52871\n",
      "Epoch 14/50\n",
      "4536/4536 [==============================] - 11s 2ms/step - loss: 0.2491 - acc: 0.9612 - mean_absolute_error: 0.1400 - val_loss: 6.4194 - val_acc: 0.4693 - val_mean_absolute_error: 0.6217\n",
      "\n",
      "Epoch 00014: val_acc did not improve from 0.52871\n",
      "Epoch 15/50\n",
      "4536/4536 [==============================] - 11s 2ms/step - loss: 0.3097 - acc: 0.9489 - mean_absolute_error: 0.1659 - val_loss: 6.3225 - val_acc: 0.3941 - val_mean_absolute_error: 0.6913\n",
      "\n",
      "Epoch 00015: val_acc did not improve from 0.52871\n",
      "Epoch 16/50\n",
      "4536/4536 [==============================] - 11s 2ms/step - loss: 0.3084 - acc: 0.9632 - mean_absolute_error: 0.1564 - val_loss: 4.8109 - val_acc: 0.5426 - val_mean_absolute_error: 0.5247\n",
      "\n",
      "Epoch 00016: val_acc improved from 0.52871 to 0.54257, saving model to ./data/best_model.h5\n",
      "Epoch 17/50\n",
      "4536/4536 [==============================] - 11s 2ms/step - loss: 0.2631 - acc: 0.9603 - mean_absolute_error: 0.1507 - val_loss: 2.9062 - val_acc: 0.5366 - val_mean_absolute_error: 0.4912\n",
      "\n",
      "Epoch 00017: val_acc did not improve from 0.54257\n",
      "Epoch 18/50\n",
      "4536/4536 [==============================] - 11s 2ms/step - loss: 0.2306 - acc: 0.9630 - mean_absolute_error: 0.1378 - val_loss: 4.2308 - val_acc: 0.4772 - val_mean_absolute_error: 0.5657\n",
      "\n",
      "Epoch 00018: val_acc did not improve from 0.54257\n",
      "Epoch 19/50\n",
      "4536/4536 [==============================] - 11s 2ms/step - loss: 0.2007 - acc: 0.9621 - mean_absolute_error: 0.1308 - val_loss: 4.0764 - val_acc: 0.5485 - val_mean_absolute_error: 0.5248\n",
      "\n",
      "Epoch 00019: val_acc improved from 0.54257 to 0.54851, saving model to ./data/best_model.h5\n",
      "Epoch 20/50\n",
      "4536/4536 [==============================] - 11s 2ms/step - loss: 0.2658 - acc: 0.9678 - mean_absolute_error: 0.1349 - val_loss: 4.7619 - val_acc: 0.5782 - val_mean_absolute_error: 0.4901\n",
      "\n",
      "Epoch 00020: val_acc improved from 0.54851 to 0.57822, saving model to ./data/best_model.h5\n",
      "Epoch 21/50\n",
      "4536/4536 [==============================] - 11s 2ms/step - loss: 0.2512 - acc: 0.9674 - mean_absolute_error: 0.1289 - val_loss: 4.9371 - val_acc: 0.5604 - val_mean_absolute_error: 0.5039\n",
      "\n",
      "Epoch 00021: val_acc did not improve from 0.57822\n",
      "Epoch 22/50\n",
      "4536/4536 [==============================] - 11s 2ms/step - loss: 0.2656 - acc: 0.9473 - mean_absolute_error: 0.1466 - val_loss: 0.5677 - val_acc: 0.7109 - val_mean_absolute_error: 0.3270\n",
      "\n",
      "Epoch 00022: val_acc improved from 0.57822 to 0.71089, saving model to ./data/best_model.h5\n",
      "Epoch 23/50\n",
      "4536/4536 [==============================] - 11s 2ms/step - loss: 0.2901 - acc: 0.9458 - mean_absolute_error: 0.1607 - val_loss: 1.3895 - val_acc: 0.5624 - val_mean_absolute_error: 0.4558\n",
      "\n",
      "Epoch 00023: val_acc did not improve from 0.71089\n",
      "Epoch 24/50\n",
      "4536/4536 [==============================] - 11s 2ms/step - loss: 0.2429 - acc: 0.9464 - mean_absolute_error: 0.1732 - val_loss: 1.1699 - val_acc: 0.4772 - val_mean_absolute_error: 0.5302\n",
      "\n",
      "Epoch 00024: val_acc did not improve from 0.71089\n",
      "Epoch 25/50\n",
      "4536/4536 [==============================] - 11s 2ms/step - loss: 0.2713 - acc: 0.9541 - mean_absolute_error: 0.1536 - val_loss: 0.9744 - val_acc: 0.4713 - val_mean_absolute_error: 0.5112\n",
      "\n",
      "Epoch 00025: val_acc did not improve from 0.71089\n",
      "Epoch 26/50\n",
      "4536/4536 [==============================] - 11s 2ms/step - loss: 0.2340 - acc: 0.9612 - mean_absolute_error: 0.1444 - val_loss: 1.3838 - val_acc: 0.4891 - val_mean_absolute_error: 0.5138\n",
      "\n",
      "Epoch 00026: val_acc did not improve from 0.71089\n",
      "Epoch 27/50\n",
      "4536/4536 [==============================] - 11s 2ms/step - loss: 0.1942 - acc: 0.9630 - mean_absolute_error: 0.1254 - val_loss: 1.3021 - val_acc: 0.5505 - val_mean_absolute_error: 0.4627\n",
      "\n",
      "Epoch 00027: val_acc did not improve from 0.71089\n",
      "Epoch 28/50\n",
      "4536/4536 [==============================] - 11s 2ms/step - loss: 0.2138 - acc: 0.9676 - mean_absolute_error: 0.1273 - val_loss: 3.6156 - val_acc: 0.5248 - val_mean_absolute_error: 0.5239\n",
      "\n",
      "Epoch 00028: val_acc did not improve from 0.71089\n",
      "Epoch 29/50\n",
      "4536/4536 [==============================] - 11s 2ms/step - loss: 0.2210 - acc: 0.9647 - mean_absolute_error: 0.1334 - val_loss: 3.2609 - val_acc: 0.5307 - val_mean_absolute_error: 0.5195\n",
      "\n",
      "Epoch 00029: val_acc did not improve from 0.71089\n",
      "Epoch 30/50\n",
      "4536/4536 [==============================] - 11s 2ms/step - loss: 0.2229 - acc: 0.9537 - mean_absolute_error: 0.1502 - val_loss: 2.8143 - val_acc: 0.5010 - val_mean_absolute_error: 0.5570\n",
      "\n",
      "Epoch 00030: val_acc did not improve from 0.71089\n",
      "Epoch 31/50\n",
      "4536/4536 [==============================] - 11s 2ms/step - loss: 0.1928 - acc: 0.9641 - mean_absolute_error: 0.1141 - val_loss: 1.8666 - val_acc: 0.5446 - val_mean_absolute_error: 0.4930\n",
      "\n",
      "Epoch 00031: val_acc did not improve from 0.71089\n",
      "Epoch 32/50\n",
      "4536/4536 [==============================] - 11s 2ms/step - loss: 0.1962 - acc: 0.9680 - mean_absolute_error: 0.1159 - val_loss: 4.9969 - val_acc: 0.5267 - val_mean_absolute_error: 0.5384\n",
      "\n",
      "Epoch 00032: val_acc did not improve from 0.71089\n",
      "Epoch 33/50\n",
      "4536/4536 [==============================] - 11s 2ms/step - loss: 0.2094 - acc: 0.9652 - mean_absolute_error: 0.1209 - val_loss: 4.2565 - val_acc: 0.5485 - val_mean_absolute_error: 0.5074\n",
      "\n",
      "Epoch 00033: val_acc did not improve from 0.71089\n",
      "Epoch 34/50\n",
      "4536/4536 [==============================] - 11s 2ms/step - loss: 0.2015 - acc: 0.9647 - mean_absolute_error: 0.1171 - val_loss: 3.0526 - val_acc: 0.5624 - val_mean_absolute_error: 0.4915\n",
      "\n",
      "Epoch 00034: val_acc did not improve from 0.71089\n",
      "Epoch 35/50\n",
      "4536/4536 [==============================] - 11s 2ms/step - loss: 0.2351 - acc: 0.9504 - mean_absolute_error: 0.1415 - val_loss: 4.1872 - val_acc: 0.3703 - val_mean_absolute_error: 0.6891\n",
      "\n",
      "Epoch 00035: val_acc did not improve from 0.71089\n",
      "Epoch 36/50\n",
      "4536/4536 [==============================] - 11s 2ms/step - loss: 0.2047 - acc: 0.9623 - mean_absolute_error: 0.1239 - val_loss: 3.9424 - val_acc: 0.5406 - val_mean_absolute_error: 0.5120\n",
      "\n",
      "Epoch 00036: val_acc did not improve from 0.71089\n",
      "Epoch 37/50\n",
      "4536/4536 [==============================] - 11s 2ms/step - loss: 0.2036 - acc: 0.9643 - mean_absolute_error: 0.1207 - val_loss: 3.3408 - val_acc: 0.5426 - val_mean_absolute_error: 0.5155\n",
      "\n",
      "Epoch 00037: val_acc did not improve from 0.71089\n",
      "Epoch 38/50\n",
      "4536/4536 [==============================] - 11s 2ms/step - loss: 0.2387 - acc: 0.9658 - mean_absolute_error: 0.1557 - val_loss: 1.5607 - val_acc: 0.4871 - val_mean_absolute_error: 0.5632\n",
      "\n",
      "Epoch 00038: val_acc did not improve from 0.71089\n",
      "Epoch 39/50\n",
      "4536/4536 [==============================] - 11s 2ms/step - loss: 0.2145 - acc: 0.9691 - mean_absolute_error: 0.1285 - val_loss: 4.9951 - val_acc: 0.5505 - val_mean_absolute_error: 0.5293\n",
      "\n",
      "Epoch 00039: val_acc did not improve from 0.71089\n",
      "Epoch 40/50\n",
      "4536/4536 [==============================] - 11s 2ms/step - loss: 0.2196 - acc: 0.9669 - mean_absolute_error: 0.1347 - val_loss: 5.1357 - val_acc: 0.5386 - val_mean_absolute_error: 0.5320\n",
      "\n",
      "Epoch 00040: val_acc did not improve from 0.71089\n",
      "Epoch 41/50\n",
      "4536/4536 [==============================] - 11s 2ms/step - loss: 0.2018 - acc: 0.9691 - mean_absolute_error: 0.1308 - val_loss: 4.8652 - val_acc: 0.5703 - val_mean_absolute_error: 0.4991\n",
      "\n",
      "Epoch 00041: val_acc did not improve from 0.71089\n",
      "Epoch 42/50\n",
      "4536/4536 [==============================] - 11s 2ms/step - loss: 0.1885 - acc: 0.9733 - mean_absolute_error: 0.1262 - val_loss: 4.4823 - val_acc: 0.5941 - val_mean_absolute_error: 0.4810\n",
      "\n",
      "Epoch 00042: val_acc did not improve from 0.71089\n",
      "Epoch 00042: early stopping\n"
     ]
    }
   ],
   "source": [
    "# fit network\n",
    "with tf.device('/device:GPU:%s' %gpu):\n",
    "    history = gpu_model.fit(x_train, y_train, epochs=epochs_num, batch_size=16, validation_split=0.1, verbose=1, shuffle=True, callbacks=callbacks_list)\n"
   ]
  },
  {
   "cell_type": "markdown",
   "metadata": {},
   "source": [
    "Let's visualize the accuracy level during the training epochs. One point to observe is that at the beginning, the accuracy rate jumps pretty quickly and afterwards fluctuates heavily. This behaviour is due to our small and non-diverse training dataset. With a larger dataset which is also more uniformly distributed, you will be able to experience a smoother convergence path and higher accuracy rate."
   ]
  },
  {
   "cell_type": "code",
   "execution_count": 40,
   "metadata": {},
   "outputs": [
    {
     "data": {
      "image/png": "[encoded data removed]",
      "text/plain": [
       "<Figure size 432x288 with 1 Axes>"
      ]
     },
     "metadata": {
      "needs_background": "light"
     },
     "output_type": "display_data"
    }
   ],
   "source": [
    "%matplotlib inline\n",
    "import matplotlib.pyplot as plt\n",
    "\n",
    "# show plot accuracy changes during training\n",
    "plt.plot(history.history['acc'],'g')\n",
    "plt.plot(history.history['val_acc'],'r')\n",
    "plt.title('accuracy across epochs')\n",
    "plt.ylabel('accuracy level')\n",
    "plt.xlabel('# epoch')\n",
    "plt.legend(['train', 'test'], loc='lower right')\n",
    "plt.show()"
   ]
  },
  {
   "cell_type": "markdown",
   "metadata": {},
   "source": [
    "Next, we are going to evaluate the trained model against our test dataset:"
   ]
  },
  {
   "cell_type": "code",
   "execution_count": 41,
   "metadata": {},
   "outputs": [
    {
     "name": "stdout",
     "output_type": "stream",
     "text": [
      "1956/1956 [==============================] - 1s 677us/step\n",
      "acc: 58.90% mean_absolute_error: 49.67%\n"
     ]
    }
   ],
   "source": [
    "# load weights from best model\n",
    "gpu_model.load_weights(model_filepath)\n",
    "\n",
    "# evaluate model against test set\n",
    "model.compile(optimizer=optimizer,loss='binary_crossentropy',metrics=['accuracy', 'mae']) \n",
    "scores = model.evaluate(x_test, y_test, verbose=1)\n",
    "print(\"%s: %.2f%% %s: %.2f%%\" % (model.metrics_names[1], scores[1]*100, model.metrics_names[2], scores[2]*100))"
   ]
  },
  {
   "cell_type": "markdown",
   "metadata": {},
   "source": [
    "<a name=\"11\"></a>\n",
    "## Confusion Matrix - Reminder From the Previous Lab:\n",
    "\n",
    "---\n",
    "In this section, we are going to plot the confusion matrix. While accuracy rate provides us with an overall outlook on how well our model is performing, we need more insights into the accuracy. This is especially true since our dataset is small.  We need to compromise some aspects of accuracy rate in favour of others. The `classification_report` provides us with the accuracy stats broken down into `precision`, `recall`, `f1-score`, and `support`. Before introducing these measures, let's define some abbreviations:\n",
    "\n",
    "For brevity, we are using the following abbreviations: \n",
    "- __FP__: False Positive\n",
    "- __TP__: True  Positive\n",
    "- __FN__: False Negative\n",
    "- __TN__: True  Negative\n",
    "\n",
    "The first measure is focused on identifying positive cases and is called __recall__. We define recall as the ability of the model to identify all true positive samples of the dataset. In mathematical terms, recall is the ratio of true positives over true positives plus false negatives. By other means, recall tells us, among all the test samples belonging to the output class, how many of them are identified correctly by the model:\n",
    "\n",
    "\\begin{equation*}\n",
    "recall = \\frac{TP}{TP+FN}\n",
    "\\end{equation*}\n",
    "\n",
    "The next measure, is called __precision__ and is the ability of the model to identify the relevant samples only, and is defined as the ratio of true positives over true positives plus false positives:\n",
    "\n",
    "\\begin{equation*}\n",
    "precision = \\frac{TP}{TP+FP}\n",
    "\\end{equation*}\n",
    "\n",
    "\n",
    "Selecting a proper threshold usually stems from a good balance between the precision and recall values. A well-known measure that provides such a balance is `F1 score`, which is a harmonic mean of precision and recall, and defined as:\n",
    "\n",
    "\\begin{equation*}\n",
    "{F_1 \\: score} = 2*\\frac{precision*recall}{precision+recall}\n",
    "\\end{equation*}\n",
    "\n",
    "---\n",
    "\n",
    "One very important measure is the recall rate on defective samples. We are interested in models that retrieve as many defective hard drives as possible. The downside is that the high recall rate usually results in a lower precision rate when the dataset is small. Here we are willing to accept this pitfall in favour of a higher recall rate, given the limitation on the dataset size. We try to predict at least half of the defective hard drives. Let's measure how our model is performing:"
   ]
  },
  {
   "cell_type": "code",
   "execution_count": 42,
   "metadata": {},
   "outputs": [
    {
     "name": "stdout",
     "output_type": "stream",
     "text": [
      "              precision    recall  f1-score   support\n",
      "\n",
      "           0       0.95      0.57      0.71      1740\n",
      "           1       0.18      0.74      0.28       216\n",
      "\n",
      "    accuracy                           0.59      1956\n",
      "   macro avg       0.56      0.66      0.50      1956\n",
      "weighted avg       0.86      0.59      0.66      1956\n",
      "\n"
     ]
    }
   ],
   "source": [
    "from sklearn.metrics import classification_report\n",
    "\n",
    "y_pred = model.predict_classes(x_test)\n",
    "conf_test = y_test.reshape(y_test.shape[0],1)\n",
    "print(classification_report(conf_test, y_pred))"
   ]
  },
  {
   "cell_type": "code",
   "execution_count": 43,
   "metadata": {
    "scrolled": true
   },
   "outputs": [
    {
     "name": "stdout",
     "output_type": "stream",
     "text": [
      "              precision    recall  f1-score   support\n",
      "\n",
      "           0       0.93      0.79      0.85      4000\n",
      "           1       0.49      0.78      0.60      1041\n",
      "\n",
      "    accuracy                           0.79      5041\n",
      "   macro avg       0.71      0.79      0.73      5041\n",
      "weighted avg       0.84      0.79      0.80      5041\n",
      "\n"
     ]
    }
   ],
   "source": [
    "y_pred = model.predict_classes(x_train)\n",
    "conf_train = y_train.reshape(y_train.shape[0],1)\n",
    "print(classification_report(conf_train, y_pred))"
   ]
  },
  {
   "cell_type": "markdown",
   "metadata": {},
   "source": [
    "<a name=\"12\"></a>\n",
    "## Optional:  CNN LSTM Architecture\n",
    "\n",
    "In this section, we are going to introduce a more advanced architecture, officially known as a __CNN LSTM Sequence Prediction__ model. This model is designed specifically for sequential prediction with spatial inputs (e.g. videos), however, could be applied to time series prediction as well.\n",
    "\n",
    "The CNN LSTM uses a convolutional neural layer to extract features from the sequence on top of the LSTM layers which also inherently extract features. Since we are dealing with one dimensional time series, we are going to use 1D convolutional network, starting with a kernel size of 12 and 50 filters. We also use a [max pooling](https://computersciencewiki.org/index.php/Max-pooling_/_Pooling) layer of size 2 to shrink the data size. Figure 5 shows the architecture of the new model.\n",
    "\n",
    "\n",
    "<img src=\"img/lstm_conv.png\" style=\"margin-top:10px;width:800px;\"/>\n",
    "<p style=\"text-align: center;color:gray\"> Figure 5.  CNN LSTM layers. </p>\n"
   ]
  },
  {
   "cell_type": "code",
   "execution_count": 44,
   "metadata": {},
   "outputs": [
    {
     "name": "stdout",
     "output_type": "stream",
     "text": [
      "Training using multiple GPUs..\n",
      "Model: \"sequential_2\"\n",
      "_________________________________________________________________\n",
      "Layer (type)                 Output Shape              Param #   \n",
      "=================================================================\n",
      "conv1d_1 (Conv1D)            (None, 5, 64)             4672      \n",
      "_________________________________________________________________\n",
      "conv1d_2 (Conv1D)            (None, 5, 64)             12352     \n",
      "_________________________________________________________________\n",
      "max_pooling1d_1 (MaxPooling1 (None, 2, 64)             0         \n",
      "_________________________________________________________________\n",
      "lstm_4 (LSTM)                (None, 2, 64)             33024     \n",
      "_________________________________________________________________\n",
      "lstm_5 (LSTM)                (None, 64)                33024     \n",
      "_________________________________________________________________\n",
      "dense_4 (Dense)              (None, 64)                4160      \n",
      "_________________________________________________________________\n",
      "dropout_2 (Dropout)          (None, 64)                0         \n",
      "_________________________________________________________________\n",
      "dense_5 (Dense)              (None, 1)                 65        \n",
      "=================================================================\n",
      "Total params: 87,297\n",
      "Trainable params: 87,297\n",
      "Non-trainable params: 0\n",
      "_________________________________________________________________\n"
     ]
    }
   ],
   "source": [
    "from keras.layers import Conv1D, MaxPooling1D\n",
    "\n",
    "# model parameters\n",
    "dp_lvl = 0.2\n",
    "regularizer_lvl = 0.002\n",
    "data_shape = x_train.shape[1:]\n",
    "\n",
    "kernel_s = 3 # should be smaller than sequence length\n",
    "filter_s = 64\n",
    "\n",
    "# network design\n",
    "model = Sequential()\n",
    "model.add(Conv1D(kernel_size = kernel_s, filters = filter_s, padding='same', input_shape=data_shape, activation='relu'))\n",
    "model.add(Conv1D(kernel_size = kernel_s, filters = filter_s, padding='same' ,activation='relu'))\n",
    "model.add(MaxPooling1D(pool_size=2))\n",
    "model.add(LSTM(filter_s, dropout = dp_lvl,recurrent_dropout = dp_lvl, return_sequences = True ))\n",
    "model.add(LSTM(filter_s, dropout = dp_lvl,recurrent_dropout = dp_lvl, return_sequences = False ))\n",
    "model.add(Dense(filter_s, activation='tanh',activity_regularizer=regularizers.l2(regularizer_lvl)))\n",
    "model.add(Dropout (0.2))\n",
    "model.add(Dense(1, activation='relu',activity_regularizer=regularizers.l2(regularizer_lvl)))\n",
    "\n",
    "# training parameters\n",
    "epochs_num = 100\n",
    "learning_rate = 0.001\n",
    "decay_rate = 3 * learning_rate / epochs_num\n",
    "optimizer = Adam(lr=learning_rate, beta_1=0.9, beta_2=0.999, epsilon=None,decay = decay_rate)\n",
    "\n",
    "try:\n",
    "    gpu_model = multi_gpu_model(model, gpus=gpu, cpu_merge=False)\n",
    "    print(\"Training using multiple GPUs..\")\n",
    "except:\n",
    "    gpu_model = model\n",
    "    print(\"Training using single GPU or CPU..\")\n",
    "\n",
    "# print out model\n",
    "model.summary()\n",
    "\n",
    "# checkpoint\n",
    "model_fn = \"best_1D_model.h5\"\n",
    "model_filepath=data_dir+model_fn\n",
    "\n",
    "checkpoint = ModelCheckpoint(model_filepath, monitor='val_acc', verbose=1, save_best_only=True, mode='auto')\n",
    "\n",
    "es = EarlyStopping(patience=20, verbose=1)\n",
    "\n",
    "callbacks_list = [es, checkpoint]\n",
    "\n",
    "gpu_model.compile(optimizer=optimizer,loss='binary_crossentropy',metrics=['accuracy', 'mae'])"
   ]
  },
  {
   "cell_type": "markdown",
   "metadata": {},
   "source": [
    "With the model built, let’s train the new model to determine its accuracy."
   ]
  },
  {
   "cell_type": "code",
   "execution_count": 45,
   "metadata": {},
   "outputs": [
    {
     "name": "stdout",
     "output_type": "stream",
     "text": [
      "Train on 4536 samples, validate on 505 samples\n",
      "Epoch 1/100\n",
      "4536/4536 [==============================] - 13s 3ms/step - loss: 0.3651 - acc: 0.9153 - mean_absolute_error: 0.1361 - val_loss: 6.4031 - val_acc: 0.2020 - val_mean_absolute_error: 0.7750\n",
      "\n",
      "Epoch 00001: val_acc improved from -inf to 0.20198, saving model to ./data/best_1D_model.h5\n",
      "Epoch 2/100\n",
      "4536/4536 [==============================] - 6s 1ms/step - loss: 0.2670 - acc: 0.9354 - mean_absolute_error: 0.1243 - val_loss: 1.0223 - val_acc: 0.3010 - val_mean_absolute_error: 0.5928\n",
      "\n",
      "Epoch 00002: val_acc improved from 0.20198 to 0.30099, saving model to ./data/best_1D_model.h5\n",
      "Epoch 3/100\n",
      "4536/4536 [==============================] - 6s 1ms/step - loss: 0.1962 - acc: 0.9405 - mean_absolute_error: 0.1264 - val_loss: 1.7518 - val_acc: 0.1861 - val_mean_absolute_error: 0.6956\n",
      "\n",
      "Epoch 00003: val_acc did not improve from 0.30099\n",
      "Epoch 4/100\n",
      "4536/4536 [==============================] - 6s 1ms/step - loss: 1.0720 - acc: 0.8677 - mean_absolute_error: 0.2200 - val_loss: 9.4616 - val_acc: 0.0297 - val_mean_absolute_error: 0.9055\n",
      "\n",
      "Epoch 00004: val_acc did not improve from 0.30099\n",
      "Epoch 5/100\n",
      "4536/4536 [==============================] - 6s 1ms/step - loss: 0.3034 - acc: 0.9231 - mean_absolute_error: 0.1532 - val_loss: 2.2660 - val_acc: 0.2475 - val_mean_absolute_error: 0.6770\n",
      "\n",
      "Epoch 00005: val_acc did not improve from 0.30099\n",
      "Epoch 6/100\n",
      "4536/4536 [==============================] - 6s 1ms/step - loss: 0.7451 - acc: 0.9052 - mean_absolute_error: 0.1463 - val_loss: 10.9839 - val_acc: 0.1723 - val_mean_absolute_error: 0.8297\n",
      "\n",
      "Epoch 00006: val_acc did not improve from 0.30099\n",
      "Epoch 7/100\n",
      "4536/4536 [==============================] - 6s 1ms/step - loss: 0.2958 - acc: 0.9506 - mean_absolute_error: 0.0877 - val_loss: 5.8646 - val_acc: 0.4515 - val_mean_absolute_error: 0.5798\n",
      "\n",
      "Epoch 00007: val_acc improved from 0.30099 to 0.45149, saving model to ./data/best_1D_model.h5\n",
      "Epoch 8/100\n",
      "4536/4536 [==============================] - 6s 1ms/step - loss: 0.2444 - acc: 0.9605 - mean_absolute_error: 0.0769 - val_loss: 4.1197 - val_acc: 0.5446 - val_mean_absolute_error: 0.5157\n",
      "\n",
      "Epoch 00008: val_acc improved from 0.45149 to 0.54455, saving model to ./data/best_1D_model.h5\n",
      "Epoch 9/100\n",
      "4536/4536 [==============================] - 6s 1ms/step - loss: 0.3587 - acc: 0.9156 - mean_absolute_error: 0.1092 - val_loss: 4.4878 - val_acc: 0.4713 - val_mean_absolute_error: 0.5923\n",
      "\n",
      "Epoch 00009: val_acc did not improve from 0.54455\n",
      "Epoch 10/100\n",
      "4536/4536 [==============================] - 6s 1ms/step - loss: 0.2436 - acc: 0.9601 - mean_absolute_error: 0.0718 - val_loss: 4.1572 - val_acc: 0.5683 - val_mean_absolute_error: 0.4770\n",
      "\n",
      "Epoch 00010: val_acc improved from 0.54455 to 0.56832, saving model to ./data/best_1D_model.h5\n",
      "Epoch 11/100\n",
      "4536/4536 [==============================] - 6s 1ms/step - loss: 0.2046 - acc: 0.9687 - mean_absolute_error: 0.0559 - val_loss: 4.6285 - val_acc: 0.5861 - val_mean_absolute_error: 0.5120\n",
      "\n",
      "Epoch 00011: val_acc improved from 0.56832 to 0.58614, saving model to ./data/best_1D_model.h5\n",
      "Epoch 12/100\n",
      "4536/4536 [==============================] - 6s 1ms/step - loss: 0.1735 - acc: 0.9689 - mean_absolute_error: 0.0578 - val_loss: 3.3835 - val_acc: 0.6554 - val_mean_absolute_error: 0.4716\n",
      "\n",
      "Epoch 00012: val_acc improved from 0.58614 to 0.65545, saving model to ./data/best_1D_model.h5\n",
      "Epoch 13/100\n",
      "4536/4536 [==============================] - 6s 1ms/step - loss: 0.1569 - acc: 0.9698 - mean_absolute_error: 0.0665 - val_loss: 5.0890 - val_acc: 0.5446 - val_mean_absolute_error: 0.5042\n",
      "\n",
      "Epoch 00013: val_acc did not improve from 0.65545\n",
      "Epoch 14/100\n",
      "4536/4536 [==============================] - 6s 1ms/step - loss: 0.3028 - acc: 0.9261 - mean_absolute_error: 0.1211 - val_loss: 4.0419 - val_acc: 0.2733 - val_mean_absolute_error: 0.6859\n",
      "\n",
      "Epoch 00014: val_acc did not improve from 0.65545\n",
      "Epoch 15/100\n",
      "4536/4536 [==============================] - 6s 1ms/step - loss: 0.2110 - acc: 0.9590 - mean_absolute_error: 0.0715 - val_loss: 3.2434 - val_acc: 0.6713 - val_mean_absolute_error: 0.3911\n",
      "\n",
      "Epoch 00015: val_acc improved from 0.65545 to 0.67129, saving model to ./data/best_1D_model.h5\n",
      "Epoch 16/100\n",
      "4536/4536 [==============================] - 6s 1ms/step - loss: 0.2316 - acc: 0.9535 - mean_absolute_error: 0.0808 - val_loss: 2.2645 - val_acc: 0.6515 - val_mean_absolute_error: 0.4295\n",
      "\n",
      "Epoch 00016: val_acc did not improve from 0.67129\n",
      "Epoch 17/100\n",
      "4536/4536 [==============================] - 6s 1ms/step - loss: 0.1995 - acc: 0.9614 - mean_absolute_error: 0.0740 - val_loss: 3.9499 - val_acc: 0.6317 - val_mean_absolute_error: 0.4397\n",
      "\n",
      "Epoch 00017: val_acc did not improve from 0.67129\n",
      "Epoch 18/100\n",
      "4536/4536 [==============================] - 6s 1ms/step - loss: 0.2036 - acc: 0.9528 - mean_absolute_error: 0.0855 - val_loss: 5.1145 - val_acc: 0.5030 - val_mean_absolute_error: 0.5419\n",
      "\n",
      "Epoch 00018: val_acc did not improve from 0.67129\n",
      "Epoch 19/100\n",
      "4536/4536 [==============================] - 6s 1ms/step - loss: 0.1512 - acc: 0.9665 - mean_absolute_error: 0.0833 - val_loss: 4.0836 - val_acc: 0.6634 - val_mean_absolute_error: 0.4818\n",
      "\n",
      "Epoch 00019: val_acc did not improve from 0.67129\n",
      "Epoch 20/100\n",
      "4536/4536 [==============================] - 6s 1ms/step - loss: 0.1254 - acc: 0.9649 - mean_absolute_error: 0.0636 - val_loss: 0.4807 - val_acc: 0.8792 - val_mean_absolute_error: 0.2253\n",
      "\n",
      "Epoch 00020: val_acc improved from 0.67129 to 0.87921, saving model to ./data/best_1D_model.h5\n",
      "Epoch 21/100\n",
      "4536/4536 [==============================] - 6s 1ms/step - loss: 0.2051 - acc: 0.9376 - mean_absolute_error: 0.1183 - val_loss: 3.8459 - val_acc: 0.4990 - val_mean_absolute_error: 0.5277\n",
      "\n",
      "Epoch 00021: val_acc did not improve from 0.87921\n",
      "Epoch 22/100\n",
      "4536/4536 [==============================] - 6s 1ms/step - loss: 0.1141 - acc: 0.9755 - mean_absolute_error: 0.0526 - val_loss: 3.3201 - val_acc: 0.6911 - val_mean_absolute_error: 0.4836\n",
      "\n",
      "Epoch 00022: val_acc did not improve from 0.87921\n",
      "Epoch 23/100\n",
      "4536/4536 [==============================] - 6s 1ms/step - loss: 0.0910 - acc: 0.9738 - mean_absolute_error: 0.0493 - val_loss: 3.6172 - val_acc: 0.6792 - val_mean_absolute_error: 0.4777\n",
      "\n",
      "Epoch 00023: val_acc did not improve from 0.87921\n",
      "Epoch 24/100\n",
      "4536/4536 [==============================] - 6s 1ms/step - loss: 0.0874 - acc: 0.9808 - mean_absolute_error: 0.0482 - val_loss: 3.7158 - val_acc: 0.6653 - val_mean_absolute_error: 0.4400\n",
      "\n",
      "Epoch 00024: val_acc did not improve from 0.87921\n",
      "Epoch 25/100\n",
      "4536/4536 [==============================] - 6s 1ms/step - loss: 0.0884 - acc: 0.9813 - mean_absolute_error: 0.0429 - val_loss: 3.0828 - val_acc: 0.7149 - val_mean_absolute_error: 0.3680\n",
      "\n",
      "Epoch 00025: val_acc did not improve from 0.87921\n",
      "Epoch 26/100\n",
      "4536/4536 [==============================] - 6s 1ms/step - loss: 0.0896 - acc: 0.9841 - mean_absolute_error: 0.0372 - val_loss: 3.4036 - val_acc: 0.7069 - val_mean_absolute_error: 0.4402\n",
      "\n",
      "Epoch 00026: val_acc did not improve from 0.87921\n",
      "Epoch 27/100\n",
      "4536/4536 [==============================] - 6s 1ms/step - loss: 0.0684 - acc: 0.9863 - mean_absolute_error: 0.0363 - val_loss: 3.2931 - val_acc: 0.7188 - val_mean_absolute_error: 0.4453\n",
      "\n",
      "Epoch 00027: val_acc did not improve from 0.87921\n",
      "Epoch 28/100\n",
      "4536/4536 [==============================] - 6s 1ms/step - loss: 0.0692 - acc: 0.9879 - mean_absolute_error: 0.0344 - val_loss: 3.1961 - val_acc: 0.7347 - val_mean_absolute_error: 0.4129\n",
      "\n",
      "Epoch 00028: val_acc did not improve from 0.87921\n",
      "Epoch 29/100\n",
      "4536/4536 [==============================] - 6s 1ms/step - loss: 0.2316 - acc: 0.9255 - mean_absolute_error: 0.1258 - val_loss: 4.4166 - val_acc: 0.0000e+00 - val_mean_absolute_error: 0.8026\n",
      "\n",
      "Epoch 00029: val_acc did not improve from 0.87921\n",
      "Epoch 30/100\n",
      "4536/4536 [==============================] - 6s 1ms/step - loss: 0.2315 - acc: 0.8999 - mean_absolute_error: 0.1419 - val_loss: 3.6747 - val_acc: 0.6376 - val_mean_absolute_error: 0.4668\n",
      "\n",
      "Epoch 00030: val_acc did not improve from 0.87921\n",
      "Epoch 31/100\n",
      "4536/4536 [==============================] - 6s 1ms/step - loss: 0.1418 - acc: 0.9645 - mean_absolute_error: 0.0624 - val_loss: 3.0710 - val_acc: 0.4772 - val_mean_absolute_error: 0.5566\n",
      "\n",
      "Epoch 00031: val_acc did not improve from 0.87921\n",
      "Epoch 32/100\n",
      "4536/4536 [==============================] - 6s 1ms/step - loss: 0.1256 - acc: 0.9694 - mean_absolute_error: 0.0530 - val_loss: 3.4797 - val_acc: 0.6000 - val_mean_absolute_error: 0.5210\n",
      "\n",
      "Epoch 00032: val_acc did not improve from 0.87921\n",
      "Epoch 33/100\n",
      "4536/4536 [==============================] - 6s 1ms/step - loss: 0.1025 - acc: 0.9751 - mean_absolute_error: 0.0445 - val_loss: 3.3656 - val_acc: 0.5129 - val_mean_absolute_error: 0.5556\n",
      "\n",
      "Epoch 00033: val_acc did not improve from 0.87921\n",
      "Epoch 34/100\n",
      "4536/4536 [==============================] - 6s 1ms/step - loss: 0.2448 - acc: 0.9528 - mean_absolute_error: 0.0810 - val_loss: 1.6626 - val_acc: 0.0000e+00 - val_mean_absolute_error: 0.7992\n",
      "\n",
      "Epoch 00034: val_acc did not improve from 0.87921\n",
      "Epoch 35/100\n",
      "4536/4536 [==============================] - 6s 1ms/step - loss: 0.2092 - acc: 0.9550 - mean_absolute_error: 0.0716 - val_loss: 2.4213 - val_acc: 0.5941 - val_mean_absolute_error: 0.4567\n",
      "\n",
      "Epoch 00035: val_acc did not improve from 0.87921\n",
      "Epoch 36/100\n",
      "4536/4536 [==============================] - 6s 1ms/step - loss: 0.1640 - acc: 0.9813 - mean_absolute_error: 0.0435 - val_loss: 4.0568 - val_acc: 0.5941 - val_mean_absolute_error: 0.5155\n",
      "\n",
      "Epoch 00036: val_acc did not improve from 0.87921\n",
      "Epoch 37/100\n",
      "4536/4536 [==============================] - 6s 1ms/step - loss: 0.4538 - acc: 0.9361 - mean_absolute_error: 0.1006 - val_loss: 7.0360 - val_acc: 0.4099 - val_mean_absolute_error: 0.5971\n",
      "\n",
      "Epoch 00037: val_acc did not improve from 0.87921\n",
      "Epoch 38/100\n",
      "4536/4536 [==============================] - 6s 1ms/step - loss: 0.1904 - acc: 0.9643 - mean_absolute_error: 0.0846 - val_loss: 3.8768 - val_acc: 0.4079 - val_mean_absolute_error: 0.5798\n",
      "\n",
      "Epoch 00038: val_acc did not improve from 0.87921\n",
      "Epoch 39/100\n",
      "4536/4536 [==============================] - 6s 1ms/step - loss: 0.1501 - acc: 0.9696 - mean_absolute_error: 0.0586 - val_loss: 5.7485 - val_acc: 0.4317 - val_mean_absolute_error: 0.6065\n",
      "\n",
      "Epoch 00039: val_acc did not improve from 0.87921\n",
      "Epoch 40/100\n",
      "4536/4536 [==============================] - 6s 1ms/step - loss: 0.1210 - acc: 0.9769 - mean_absolute_error: 0.0497 - val_loss: 3.8078 - val_acc: 0.5505 - val_mean_absolute_error: 0.5383\n",
      "\n",
      "Epoch 00040: val_acc did not improve from 0.87921\n",
      "Epoch 00040: early stopping\n"
     ]
    }
   ],
   "source": [
    "# fit network\n",
    "with tf.device('/device:GPU:%s' %gpu):\n",
    "    history = gpu_model.fit(x_train, y_train, epochs=epochs_num, batch_size=16, validation_split=0.1, verbose=1, shuffle=True, callbacks=callbacks_list)"
   ]
  },
  {
   "cell_type": "markdown",
   "metadata": {},
   "source": [
    "Let's start out by reviewing the training loss."
   ]
  },
  {
   "cell_type": "code",
   "execution_count": 46,
   "metadata": {},
   "outputs": [
    {
     "data": {
      "image/png": "[encoded data removed]",
      "text/plain": [
       "<Figure size 432x288 with 1 Axes>"
      ]
     },
     "metadata": {
      "needs_background": "light"
     },
     "output_type": "display_data"
    }
   ],
   "source": [
    "# show plot accuracy changes during training\n",
    "plt.plot(history.history['acc'],'g')\n",
    "plt.plot(history.history['val_acc'],'r')\n",
    "plt.title('accuracy across epochs')\n",
    "plt.ylabel('accuracy level')\n",
    "plt.xlabel('# epoch')\n",
    "plt.legend(['train', 'test'], loc='lower right')\n",
    "plt.show()"
   ]
  },
  {
   "cell_type": "markdown",
   "metadata": {},
   "source": [
    "And let's check out the overall accuracy."
   ]
  },
  {
   "cell_type": "code",
   "execution_count": 47,
   "metadata": {},
   "outputs": [
    {
     "name": "stdout",
     "output_type": "stream",
     "text": [
      "1956/1956 [==============================] - 1s 644us/step\n",
      "acc: 27.56% mean_absolute_error: 72.64%\n"
     ]
    }
   ],
   "source": [
    "# load weights from best model\n",
    "gpu_model.load_weights(model_filepath)\n",
    "\n",
    "# evaluate model against test set\n",
    "model.compile(optimizer=optimizer,loss='binary_crossentropy',metrics=['accuracy', 'mae']) \n",
    "scores = model.evaluate(x_test, y_test, verbose=1)\n",
    "print(\"%s: %.2f%% %s: %.2f%%\" % (model.metrics_names[1], scores[1]*100, model.metrics_names[2], scores[2]*100))"
   ]
  },
  {
   "cell_type": "markdown",
   "metadata": {},
   "source": [
    "Similar to the previous model, we are going to build the confusion matrix."
   ]
  },
  {
   "cell_type": "code",
   "execution_count": 48,
   "metadata": {},
   "outputs": [
    {
     "name": "stdout",
     "output_type": "stream",
     "text": [
      "              precision    recall  f1-score   support\n",
      "\n",
      "           0       0.95      0.20      0.32      1740\n",
      "           1       0.12      0.92      0.22       216\n",
      "\n",
      "    accuracy                           0.28      1956\n",
      "   macro avg       0.54      0.56      0.27      1956\n",
      "weighted avg       0.86      0.28      0.31      1956\n",
      "\n"
     ]
    }
   ],
   "source": [
    "# confusion matrix on test set\n",
    "y_pred = model.predict_classes(x_test)\n",
    "conf_test = y_test.reshape(y_test.shape[0],1)\n",
    "print(classification_report(conf_test, y_pred))"
   ]
  },
  {
   "cell_type": "markdown",
   "metadata": {},
   "source": [
    "## Leveraging the model for calculating \"Remaining Useful Life\" (RUL)"
   ]
  },
  {
   "cell_type": "markdown",
   "metadata": {},
   "source": [
    "In the case above, we developed a \"classifier\" which will indicate, based on SMART drive data, that a given hard drive will fail within the \"sequnce_length\".  By increasing the sequence_length, we could potentially learn to detect failures further in the future. In addition, different failure types could have different failure windows, so an ensemble of models, each with different windows and sequences could be leveraged for more advanced RUL predictions."
   ]
  },
  {
   "cell_type": "code",
   "execution_count": 49,
   "metadata": {},
   "outputs": [
    {
     "data": {
      "text/plain": [
       "3034"
      ]
     },
     "execution_count": 49,
     "metadata": {},
     "output_type": "execute_result"
    }
   ],
   "source": [
    "# free up memory for upcoming exercises\n",
    "gc.collect()"
   ]
  },
  {
   "cell_type": "markdown",
   "metadata": {},
   "source": [
    "## Group Discussion Questions"
   ]
  },
  {
   "cell_type": "markdown",
   "metadata": {},
   "source": [
    "Question: What do you think about the model accuracy ?"
   ]
  },
  {
   "cell_type": "code",
   "execution_count": null,
   "metadata": {},
   "outputs": [],
   "source": []
  },
  {
   "cell_type": "code",
   "execution_count": null,
   "metadata": {},
   "outputs": [],
   "source": [
    "# Answer"
   ]
  },
  {
   "cell_type": "markdown",
   "metadata": {},
   "source": [
    "Question: Discuss some ways that you could improve the performance of the model above ?"
   ]
  },
  {
   "cell_type": "code",
   "execution_count": null,
   "metadata": {},
   "outputs": [],
   "source": [
    "# Answer"
   ]
  },
  {
   "cell_type": "markdown",
   "metadata": {},
   "source": [
    "<a name=\"assess\"></a>\n",
    "## Assessment – Predicting Time Series\n",
    "\n",
    "The RNN model we created in this lab was designed to output a single value, indicating whether the subject time series results in a \"failed\" hard drive or not. To accomplish this, a simple class label is returned by the model through the below line of Keras code:\n",
    "\n",
    "```\n",
    "model.add(Dense(1, activation='relu',activity_regularizer=regularizers.l2(regularizer_lvl)))\n",
    "```\n",
    "\n",
    "In this assignment, we intend to perform a slightly different approach. For example, while previously we were given with sequences of length \"5\" (the original value), now we assume that the length of the sequence is one less, e.g. 4 (these are arbitrary lengths for the sake of example) in our case. Predicting the 5th element of the sequence is the subject of our model. By other means, we want the model to return a single (multi-dimensional) vector, (a vector of size [1 x 47] for the above DataFrame. You should determine the vector size by the array shape). "
   ]
  },
  {
   "cell_type": "markdown",
   "metadata": {},
   "source": [
    "![image](img/Lab2-Assessment-Example.jpg)"
   ]
  },
  {
   "cell_type": "markdown",
   "metadata": {},
   "source": [
    "In addition to the above criteria, there are some other changes required for the architecture of the model:\n",
    "\n",
    "1- The model starts with two stacked LSTM layers with a unit size of 128.\n",
    "\n",
    "2- The last output of the second LSTM layer is fed into a Dense model with the following properties: \n",
    "    - The number of outputs is 256\n",
    "    - The activation function is `tanh`\n",
    "    \n",
    "3- The fourth layer is a dropout layer with dropout probability of 0.2\n",
    "\n",
    "4- Next is another dense model with:\n",
    "    - The number of outputs is 128\n",
    "    - The activation function is `tanh`\n",
    "    \n",
    "5- The last layer is a Dense layer where the number of outputs is equal to the dimension of a single row of data. (Remember that we are trying to predict the values of a multi dimension vector).\n",
    "    \n",
    "The function should simply return the above model.\n",
    "        \n",
    "\n",
    "\n",
    "\n",
    "\n",
    "__To do so, open [this python file](/lab/edit/assignment.py)__  and complete the `get_model()` function by filling in the __<<< TODO >>>__ section according to the criteria described above.\n",
    "\n",
    "\n",
    "Once done, you can use the following block of code to verify that your implementation is correct. Note that this is __NOT__ the last step. After you succeed the test below, you need to click on assess test button on the course page. For more details, read the red note below."
   ]
  },
  {
   "cell_type": "code",
   "execution_count": 57,
   "metadata": {},
   "outputs": [
    {
     "name": "stdout",
     "output_type": "stream",
     "text": [
      "{\"score\": 0, \"message\": \"Error running assessment: list index out of range\"}\n"
     ]
    }
   ],
   "source": [
    "!python try_assessment.py"
   ]
  },
  {
   "cell_type": "markdown",
   "metadata": {},
   "source": [
    "## Summary"
   ]
  },
  {
   "cell_type": "markdown",
   "metadata": {},
   "source": [
    "LSTMs provide a powerful way to analyze time series data.  While XGBoost was able to predict failure for a given set of SMART data, the LSTM gave us the ability to predict future disk failures before they happen.\n",
    "\n",
    "One thing to remember: The amount of data, model complexity, the number of features, and the number of epochs have been reduced in this tutorial to reduce the computational (and time) burden.  If we were leveraging this model for production usage, we would train on a much larger data set.  \n",
    "\n",
    "This training would take hours to days, and we would regularly retrain the model leveraging additional data as it became available.  Also, a key thing to remember is that the data is device and environment-dependent, so any major changes would require retraining to ensure the model was still appropriate."
   ]
  },
  {
   "cell_type": "markdown",
   "metadata": {},
   "source": [
    "<a name=\"All-answers\"></a>\n",
    "## Answers to selected exercises:\n",
    "---\n",
    "\n",
    "<a name=\"a1\"></a>\n",
    "**Exercise 1: Create class labels:**"
   ]
  },
  {
   "cell_type": "raw",
   "metadata": {},
   "source": [
    "x_train = df_train.drop(columns=drop_columns_list)\n",
    "x_test = df_test.drop(columns=drop_columns_list)"
   ]
  },
  {
   "cell_type": "markdown",
   "metadata": {},
   "source": [
    "Click [here](#e1) to go back"
   ]
  },
  {
   "cell_type": "markdown",
   "metadata": {},
   "source": [
    "<a name=\"a2\"></a>\n",
    "**Exercise 2: Reshaping the training data**"
   ]
  },
  {
   "cell_type": "raw",
   "metadata": {},
   "source": [
    "x_train = x_train.reshape(int(x_train.shape[0]/sequence_length), sequence_length, x_train.shape[1])\n",
    "x_test = x_test.reshape(int(x_test.shape[0]/sequence_length), sequence_length, x_test.shape[1])"
   ]
  },
  {
   "cell_type": "markdown",
   "metadata": {},
   "source": [
    "Click [here](#e2) to go back"
   ]
  },
  {
   "cell_type": "code",
   "execution_count": null,
   "metadata": {},
   "outputs": [],
   "source": []
  }
 ],
 "metadata": {
  "kernelspec": {
   "display_name": "Python 3",
   "language": "python",
   "name": "python3"
  },
  "language_info": {
   "codemirror_mode": {
    "name": "ipython",
    "version": 3
   },
   "file_extension": ".py",
   "mimetype": "text/x-python",
   "name": "python",
   "nbconvert_exporter": "python",
   "pygments_lexer": "ipython3",
   "version": "3.7.4"
  }
 },
 "nbformat": 4,
 "nbformat_minor": 4
}
